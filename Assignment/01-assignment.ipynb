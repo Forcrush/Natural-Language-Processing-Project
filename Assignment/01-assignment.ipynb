{
 "cells": [
  {
   "cell_type": "markdown",
   "metadata": {},
   "source": [
    "# Homework 1: Preprocessing and Text Classification"
   ]
  },
  {
   "cell_type": "markdown",
   "metadata": {},
   "source": [
    "Student Name: Hongyu Chen\n",
    "\n",
    "Student ID: 1062897"
   ]
  },
  {
   "cell_type": "markdown",
   "metadata": {},
   "source": [
    "# General Info\n",
    "\n",
    "<b>Due date</b>: Sunday, 5 Apr 2020 5pm\n",
    "\n",
    "<b>Submission method</b>: Canvas submission\n",
    "\n",
    "<b>Submission materials</b>: completed copy of this iPython notebook\n",
    "\n",
    "<b>Late submissions</b>: -20% per day (both week and weekend days counted)\n",
    "\n",
    "<b>Marks</b>: 10% of mark for class (with 9% on correctness + 1% on quality and efficiency of your code)\n",
    "\n",
    "<b>Materials</b>: See [Using Jupyter Notebook and Python page](https://canvas.lms.unimelb.edu.au/courses/17601/pages/using-jupyter-notebook-and-python?module_item_id=1678430) on Canvas (under Modules>Resources) for information on the basic setup required for this class, including an iPython notebook viewer and the python packages NLTK, Numpy, Scipy, Matplotlib, Scikit-Learn, and Gensim. In particular, if you are not using a lab computer which already has it installed, we recommend installing all the data for NLTK, since you will need various parts of it to complete this assignment. You can also use any Python built-in packages, but do not use any other 3rd party packages (the packages listed above are all fine to use); if your iPython notebook doesn't run on the marker's machine, you will lose marks. <b> You should use Python 3</b>.  \n",
    "\n",
    "To familiarize yourself with NLTK, here is a free online book:  Steven Bird, Ewan Klein, and Edward Loper (2009). <a href=http://nltk.org/book>Natural Language Processing with Python</a>. O'Reilly Media Inc. You may also consult the <a href=https://www.nltk.org/api/nltk.html>NLTK API</a>.\n",
    "\n",
    "<b>Evaluation</b>: Your iPython notebook should run end-to-end without any errors in a reasonable amount of time, and you must follow all instructions provided below, including specific implementation requirements and instructions for what needs to be printed (please avoid printing output we don't ask for). You should edit the sections below where requested, but leave the rest of the code as is. You should leave the output from running your code in the iPython notebook you submit, to assist with marking. The amount each section is worth is given in parenthesis after the instructions. \n",
    "\n",
    "You will be marked not only on the correctness of your methods, but also the quality and efficency of your code: in particular, you should be careful to use Python built-in functions and operators when appropriate and pick descriptive variable names that adhere to <a href=\"https://www.python.org/dev/peps/pep-0008/\">Python style requirements</a>. If you think it might be unclear what you are doing, you should comment your code to help the marker make sense of it.\n",
    "\n",
    "<b>Updates</b>: Any major changes to the assignment will be announced via Canvas. Minor changes and clarifications will be announced on the discussion board; we recommend you check it regularly.\n",
    "\n",
    "<b>Academic misconduct</b>: For most people, collaboration will form a natural part of the undertaking of this homework, and we encourge you to discuss it in general terms with other students. However, this ultimately is still an individual task, and so reuse of code or other instances of clear influence will be considered cheating. We will be checking submissions for originality and will invoke the University’s <a href=\"http://academichonesty.unimelb.edu.au/policy.html\">Academic Misconduct policy</a> where inappropriate levels of collusion or plagiarism are deemed to have taken place."
   ]
  },
  {
   "cell_type": "markdown",
   "metadata": {},
   "source": [
    "# Overview\n",
    "\n",
    "In this homework, you'll be working with a collection tweets. The task is to classify whether a tweet constitutes a rumour event. This homework involves writing code to preprocess data and perform text classification."
   ]
  },
  {
   "cell_type": "markdown",
   "metadata": {},
   "source": [
    "# 1. Preprocessing (5 marks)"
   ]
  },
  {
   "cell_type": "markdown",
   "metadata": {},
   "source": [
    "**Instructions**: Run the code below to download the tweet corpus for the assignment. Note: the download may take some time. **No implementation is needed.**"
   ]
  },
  {
   "cell_type": "code",
   "execution_count": 1,
   "metadata": {},
   "outputs": [
    {
     "name": "stdout",
     "output_type": "stream",
     "text": [
      "Done. File downloaded: rumour-data.tgz\n"
     ]
    }
   ],
   "source": [
    "import requests\n",
    "import os\n",
    "from pathlib import Path\n",
    "\n",
    "fname = 'rumour-data.tgz'\n",
    "data_dir = os.path.splitext(fname)[0] #'rumour-data'\n",
    "\n",
    "my_file = Path(fname)\n",
    "if not my_file.is_file():\n",
    "    url = \"https://github.com/jhlau/jhlau.github.io/blob/master/files/rumour-data.tgz?raw=true\"\n",
    "    r = requests.get(url)\n",
    "\n",
    "    #Save to the current directory\n",
    "    with open(fname, 'wb') as f:\n",
    "        f.write(r.content)\n",
    "        \n",
    "print(\"Done. File downloaded:\", my_file)\n"
   ]
  },
  {
   "cell_type": "markdown",
   "metadata": {},
   "source": [
    "**Instructions**: Run the code to extract the zip file. Note: the extraction may take a minute or two. **No implementation is needed.**"
   ]
  },
  {
   "cell_type": "code",
   "execution_count": 2,
   "metadata": {},
   "outputs": [
    {
     "name": "stdout",
     "output_type": "stream",
     "text": [
      "Extraction done.\n"
     ]
    }
   ],
   "source": [
    "import tarfile\n",
    "\n",
    "#decompress rumour-data.tgz\n",
    "tar = tarfile.open(fname, \"r:gz\")\n",
    "tar.extractall()\n",
    "tar.close()\n",
    "\n",
    "#remove superfluous files (e.g. .DS_store)\n",
    "extra_files = []\n",
    "for r, d, f in os.walk(data_dir):\n",
    "    for file in f:\n",
    "        if (file.startswith(\".\")):\n",
    "            extra_files.append(os.path.join(r, file))\n",
    "for f in extra_files:\n",
    "    os.remove(f)\n",
    "\n",
    "print(\"Extraction done.\")"
   ]
  },
  {
   "cell_type": "markdown",
   "metadata": {},
   "source": [
    "### Question 1 (1.0 mark)\n",
    "\n",
    "**Instructions**: The corpus data is in the *rumour-data* folder. It contains 2 sub-folders: *non-rumours* and *rumours*. As the names suggest, *rumours* contains all rumour-propagating tweets, while *non-rumours* has normal tweets. Within  *rumours* and *non-rumours*, you'll find some sub-folders, each named with an ID. Each of these IDs constitutes an 'event', where an event is defined as consisting a **source tweet** and its **reactions**.\n",
    "\n",
    "An illustration of the folder structure is given below:\n",
    "\n",
    "    rumour-data\n",
    "        - rumours\n",
    "            - 498254340310966273\n",
    "                - reactions\n",
    "                    - 498254340310966273.json\n",
    "                    - 498260814487642112.json\n",
    "                - source-tweet\n",
    "                    - 498254340310966273.json\n",
    "        - non-rumours\n",
    "\n",
    "Now we need to gather the tweet messages for rumours and non-rumour events. As the individual tweets are stored in json format, we need to use a json parser to parse and collect the actual tweet message. The function `get_tweet_text_from_json(file_path)` is provided to do that.\n",
    "\n",
    "**Task**: Complete the `get_events(event_dir)` function. The function should return **a list of events** for a particular class of tweets (e.g. rumours), and each event should contain the source tweet message and all reaction tweet messages.\n",
    "\n",
    "**Check**: Use the assertion statements in *\"For your testing\"* below for the expected output."
   ]
  },
  {
   "cell_type": "code",
   "execution_count": 14,
   "metadata": {},
   "outputs": [
    {
     "name": "stdout",
     "output_type": "stream",
     "text": [
      "Number of rumour events = 500\n",
      "Number of non-rumour events = 1000\n"
     ]
    }
   ],
   "source": [
    "import json\n",
    "\n",
    "def get_tweet_text_from_json(file_path):\n",
    "    with open(file_path) as json_file:\n",
    "        data = json.load(json_file)\n",
    "        return data[\"text\"]\n",
    "    \n",
    "def get_events(event_dir):\n",
    "    event_list = []\n",
    "    for event in sorted(os.listdir(event_dir)):\n",
    "        ###\n",
    "        # Your answer BEGINS HERE\n",
    "        ###\n",
    "        subevent = []\n",
    "        # first will be 'source-tweet', then 'reactions'\n",
    "        current_path = os.path.join(event_dir, event)\n",
    "        for sub in sorted(os.listdir(current_path))[::-1]:\n",
    "            sub_current_path = os.path.join(current_path, sub)\n",
    "            if sub == \"source-tweet\":\n",
    "                for jsfile in os.listdir(sub_current_path):\n",
    "                    subevent.append(get_tweet_text_from_json(os.path.join(sub_current_path, jsfile)))\n",
    "            elif sub == \"reactions\":\n",
    "                for jsfile in os.listdir(sub_current_path):\n",
    "                    subevent.append(get_tweet_text_from_json(os.path.join(sub_current_path, jsfile)))\n",
    "            else:\n",
    "                print(\"No subfile named 'source-tweet' or 'reactions'\")\n",
    "                return\n",
    "            \n",
    "        event_list.append(subevent)             \n",
    "               \n",
    "        ###\n",
    "        # Your answer ENDS HERE\n",
    "        ###\n",
    "        \n",
    "    return event_list\n",
    "    \n",
    "#a list of events, and each event is a list of tweets (source tweet + reactions)    \n",
    "rumour_events = get_events(os.path.join(data_dir, \"rumours\"))\n",
    "nonrumour_events = get_events(os.path.join(data_dir, \"non-rumours\"))\n",
    "\n",
    "print(\"Number of rumour events =\", len(rumour_events))\n",
    "print(\"Number of non-rumour events =\", len(nonrumour_events))"
   ]
  },
  {
   "cell_type": "markdown",
   "metadata": {},
   "source": [
    "**For your testing:**"
   ]
  },
  {
   "cell_type": "code",
   "execution_count": 15,
   "metadata": {},
   "outputs": [],
   "source": [
    "assert(len(rumour_events) == 500)\n",
    "assert(len(nonrumour_events) == 1000)"
   ]
  },
  {
   "cell_type": "markdown",
   "metadata": {},
   "source": [
    "### Question 2 (1.0 mark)\n",
    "\n",
    "**Instructions**: Next we need to preprocess the collected tweets to create a bag-of-words representation. The preprocessing steps required here are: (1) tokenize each tweet into individual word tokens (using NLTK `TweetTokenizer`); and (2) remove stopwords (based on NLTK `stopwords`).\n",
    "\n",
    "**Task**: Complete the `preprocess_events(event)` function. The function takes **a list of events** as input, and returns **a list of preprocessed events**. Each preprocessed event should have a dictionary of words and frequencies.\n",
    "\n",
    "**Check**: Use the assertion statements in *\"For your testing\"* below for the expected output."
   ]
  },
  {
   "cell_type": "code",
   "execution_count": 57,
   "metadata": {},
   "outputs": [
    {
     "name": "stderr",
     "output_type": "stream",
     "text": [
      "[nltk_data] Downloading package stopwords to\n",
      "[nltk_data]     C:\\Users\\HP\\AppData\\Roaming\\nltk_data...\n",
      "[nltk_data]   Package stopwords is already up-to-date!\n"
     ]
    },
    {
     "name": "stdout",
     "output_type": "stream",
     "text": [
      "Number of preprocessed rumour events = 500\n",
      "Number of preprocessed non-rumour events = 1000\n"
     ]
    }
   ],
   "source": [
    "import nltk\n",
    "from nltk.tokenize import TweetTokenizer\n",
    "from nltk.corpus import stopwords\n",
    "from collections import defaultdict\n",
    "\n",
    "nltk.download('stopwords')\n",
    "tt = TweetTokenizer()\n",
    "stopwords = set(stopwords.words('english'))\n",
    "\n",
    "\n",
    "def preprocess_events(events):\n",
    "    ###\n",
    "    # Your answer BEGINS HERE\n",
    "    ###\n",
    "    preprocessed_event = []\n",
    "    for source_reatcion in events:\n",
    "        single_event = []\n",
    "        ## tokenization\n",
    "        for ele in source_reatcion:\n",
    "            single_event.extend(tt.tokenize(ele))\n",
    "        ## remove stopwords\n",
    "        filter_single_event = []\n",
    "        for i in single_event:\n",
    "            if i not in stopwords:\n",
    "                filter_single_event.append(i)\n",
    "        ## get the dict\n",
    "        dic = {}\n",
    "        for i in filter_single_event:\n",
    "            if dic.get(i, None) == None:\n",
    "                dic[i] = 1\n",
    "            else:\n",
    "                dic[i] += 1\n",
    "        \n",
    "        preprocessed_event.append(dic)\n",
    "    \n",
    "    return preprocessed_event\n",
    "            \n",
    "    ###\n",
    "    # Your answer ENDS HERE\n",
    "    ###\n",
    "\n",
    "preprocessed_rumour_events = preprocess_events(rumour_events)\n",
    "preprocessed_nonrumour_events = preprocess_events(nonrumour_events)\n",
    "\n",
    "print(\"Number of preprocessed rumour events =\", len(preprocessed_rumour_events))\n",
    "print(\"Number of preprocessed non-rumour events =\", len(preprocessed_nonrumour_events))\n"
   ]
  },
  {
   "cell_type": "markdown",
   "metadata": {},
   "source": [
    "**For your testing**:"
   ]
  },
  {
   "cell_type": "code",
   "execution_count": 26,
   "metadata": {},
   "outputs": [],
   "source": [
    "assert(len(preprocessed_rumour_events) == 500)\n",
    "assert(len(preprocessed_nonrumour_events) == 1000)"
   ]
  },
  {
   "cell_type": "markdown",
   "metadata": {},
   "source": [
    "**Instructions**: Hashtags (i.e. topic tags which start with #) pose an interesting tokenisation problem because they often include multiple words written without spaces or capitalization. Run the code below to collect all unique hashtags in the preprocessed data. **No implementation is needed.**\n",
    "\n"
   ]
  },
  {
   "cell_type": "code",
   "execution_count": 27,
   "metadata": {},
   "outputs": [
    {
     "name": "stdout",
     "output_type": "stream",
     "text": [
      "Number of hashtags = 1829\n"
     ]
    }
   ],
   "source": [
    "def get_all_hashtags(events):\n",
    "    hashtags = set([])\n",
    "    for event in events:\n",
    "        for word, frequency in event.items():\n",
    "            if word.startswith(\"#\"):\n",
    "                hashtags.add(word)\n",
    "    return hashtags\n",
    "\n",
    "hashtags = get_all_hashtags(preprocessed_rumour_events + preprocessed_nonrumour_events)\n",
    "print(\"Number of hashtags =\", len(hashtags))"
   ]
  },
  {
   "cell_type": "markdown",
   "metadata": {},
   "source": [
    "### Question 3 (2.0 mark)\n",
    "\n",
    "**Instructions**: Our task here to tokenize the hashtags, by implementing a reversed version of the MaxMatch algorithm discussed in class, where matching begins at the end of the hashtag and progresses backwards. NLTK has a list of words that you can use for matching, see starter code below. Be careful about efficiency with respect to doing word lookups. One extra challenge you have to deal with is that the provided list of words includes only lemmas: your MaxMatch algorithm should match inflected forms by converting them into lemmas using the NLTK lemmatizer before matching. When lemmatising a word, you also need to provide the part-of-speech tag of the word. You should use `nltk.tag.pos_tag` for doing part-of-speech tagging.\n",
    "\n",
    "Note that the list of words is incomplete, and, if you are unable to make any longer match, your code should default to matching a single letter. Create a new list of tokenized hashtags (this should be a list of lists of strings) and use slicing to print out the last 20 hashtags in the list.\n",
    "\n",
    "For example, given \"#speakup\", the algorithm should produce: \\[\"#\", \"speak\", \"up\"\\]. And note that you do not need to delete the hashtag symbol (\"#\") from the tokenised outputs.\n",
    "\n",
    "**Task**: Complete the `tokenize_hashtags(hashtags)` function by implementing a reversed MaxMatch algorithm. The function takes as input **a set of hashtags**, and returns **a dictionary** where key=\"hashtag\" and value=\"a list of word tokens\".\n",
    "\n",
    "**Check**: Use the assertion statements in *\"For your testing\"* below for the expected output."
   ]
  },
  {
   "cell_type": "code",
   "execution_count": 58,
   "metadata": {},
   "outputs": [
    {
     "name": "stderr",
     "output_type": "stream",
     "text": [
      "[nltk_data] Downloading package averaged_perceptron_tagger to\n",
      "[nltk_data]     C:\\Users\\HP\\AppData\\Roaming\\nltk_data...\n",
      "[nltk_data]   Package averaged_perceptron_tagger is already up-to-\n",
      "[nltk_data]       date!\n",
      "[nltk_data] Downloading package wordnet to\n",
      "[nltk_data]     C:\\Users\\HP\\AppData\\Roaming\\nltk_data...\n",
      "[nltk_data]   Package wordnet is already up-to-date!\n",
      "[nltk_data] Downloading package words to\n",
      "[nltk_data]     C:\\Users\\HP\\AppData\\Roaming\\nltk_data...\n",
      "[nltk_data]   Package words is already up-to-date!\n"
     ]
    },
    {
     "name": "stdout",
     "output_type": "stream",
     "text": [
      "[('#mightaswellbeCubaorChina', ['#', 'might', 'aswell', 'be', 'Cub', 'a', 'orC', 'hin', 'a']), ('#JustinBieber', ['#', 'Just', 'in', 'B', 'ie', 'ber']), ('#overkill', ['#', 'over', 'kill']), ('#OpFerguson', ['#', 'O', 'p', 'Fe', 'r', 'g', 'us', 'on']), ('#opinions', ['#', 'opinion']), ('#justsaying', ['#', 'just', 'saying']), ('#awesome', ['#', 'awesome']), ('#Saudi', ['#', 'Sa', 'u', 'di']), ('#jealous', ['#', 'jealous']), ('#EveryDay', ['#', 'EveryDay']), ('#building7', ['#', 'building', '7']), ('#DONTSHOOT', ['#', 'DONT', 'SHOOT']), ('#Insecurityinfrance', ['#', 'Insecurity', 'infra', 'n', 'ce']), ('#power', ['#', 'power']), ('#dangerousblackkids', ['#', 'dangerous', 'black', 'k', 'id', 's']), ('#TeinemanSquare', ['#', 'Te', 'in', 'em', 'an', 'Square']), ('#gross', ['#', 'gross']), ('#Murder', ['#', 'Murder']), (\"#4U9525's\", ['#', '4', 'U', '9', '5', '2', '5', \"'\", 's']), ('#BokoHaramKilled2000People', ['#', 'Bo', 'ko', 'Ha', 'ram', 'Kill', 'e', 'd', '2', '0', '0', '0', 'People'])]\n"
     ]
    }
   ],
   "source": [
    "from nltk.corpus import wordnet\n",
    "nltk.download('averaged_perceptron_tagger')\n",
    "nltk.download('wordnet')\n",
    "nltk.download('words')\n",
    "lemmatizer = nltk.stem.wordnet.WordNetLemmatizer()\n",
    "words = set(nltk.corpus.words.words()) #a list of words provided by NLTK\n",
    "\n",
    "\n",
    "def get_wordnet_POS(word):\n",
    "    ## get the first POS of the word\n",
    "    ## e.g. nltk.pos_tag(\"feet\") -> [('f', 'JJ'), ('e', 'NN'), ('e', 'NN'), ('t', 'NN')]\n",
    "    ##      tag -> \"J\"\n",
    "    tag = nltk.pos_tag(word)[0][1][0].upper()\n",
    "    tag_dict = {\"J\": wordnet.ADJ,\n",
    "                \"N\": wordnet.NOUN,\n",
    "                \"V\": wordnet.VERB,\n",
    "                \"R\": wordnet.ADV}\n",
    "    \n",
    "    return tag_dict.get(tag, wordnet.NOUN)\n",
    "\n",
    "\n",
    "def lemmatize_word(word):\n",
    "    return lemmatizer.lemmatize(word, get_wordnet_POS(word))\n",
    "\n",
    "\n",
    "def maxmatch(word, wordlist):\n",
    "    if len(word) == 0: return wordlist\n",
    "    if len(word) == 1:\n",
    "        return wordlist + [word]\n",
    "    for i in range(len(word)-1,-1,-1):\n",
    "        if word[:i+1].lower() in words:\n",
    "            return maxmatch(word[i+1:],wordlist+[word[:i+1]])\n",
    "            \n",
    "    # when can not match anything, take the first char as a single char\n",
    "    return maxmatch(word[1:], wordlist+[word[0]])\n",
    "        \n",
    "def tokenize_hashtags(hashtags):\n",
    "    ###\n",
    "    # Your answer BEGINS HERE\n",
    "    ###\n",
    "    ht_dic = {}\n",
    "    for it in hashtags:\n",
    "        # not startwith '#'\n",
    "        if it[0] != '#': continue\n",
    "        # just '#'\n",
    "        if len(it) == 1: ht_dic[it] = [\"#\"]\n",
    "        else:\n",
    "            clear_word = lemmatize_word(it[1:])\n",
    "            if clear_word not in ht_dic:\n",
    "                ht_dic[it] = [\"#\"] + maxmatch(clear_word, [])\n",
    "    return ht_dic\n",
    "    ###\n",
    "    # Your answer ENDS HERE\n",
    "    ###\n",
    "\n",
    "\n",
    "tokenized_hashtags = tokenize_hashtags(hashtags)\n",
    "\n",
    "print(list(tokenized_hashtags.items())[:20])"
   ]
  },
  {
   "cell_type": "markdown",
   "metadata": {},
   "source": [
    "**For your testing:**"
   ]
  },
  {
   "cell_type": "code",
   "execution_count": 39,
   "metadata": {},
   "outputs": [],
   "source": [
    "assert(len(tokenized_hashtags) == len(hashtags))"
   ]
  },
  {
   "cell_type": "markdown",
   "metadata": {},
   "source": [
    "### Question 4 (1.0 mark)\n",
    "\n",
    "**Instructions**: Now that we have the tokenized hashtags, we need to go back and update the bag-of-words representation for each event.\n",
    "\n",
    "**Task**: Complete the ``update_event_bow(events)`` function. The function takes **a list of preprocessed events**, and for each event, it looks for every hashtag it has and updates the bag-of-words dictionary with the tokenized hashtag tokens. Note: you do not need to delete the counts of the original hashtags when updating the bag-of-words (e.g., if a document has \"#speakup\":2 in its bag-of-words representation, you do not need to delete this hashtag and its counts)."
   ]
  },
  {
   "cell_type": "code",
   "execution_count": 59,
   "metadata": {},
   "outputs": [
    {
     "name": "stdout",
     "output_type": "stream",
     "text": [
      "{'well': 1, 'They': 3, 'less': 1, 'recording': 1, 'LOT': 1, 'protect': 1, '#Ferguson': 2, '-': 1, 's': 1, 'came': 1, 'g': 2, 'Protecting': 1, 'installed': 3, 'pro-gunners': 1, 'still': 2, \"that's\": 1, 'take': 1, 'would': 1, 'police': 1, 'ppl': 1, 'protecting': 1, 'audio': 1, 'Mike': 3, 'public': 1, 'AR': 1, 'patrol': 1, 'fire': 1, 'hardship': 1, 'guns': 3, '15s': 1, 'program': 1, 'squad': 2, 'rifles': 1, 'bothered': 1, \"they're\": 1, \"That's\": 1, '@TheAnonMessage': 8, 'Like': 1, '@BallerinaX': 1, 'slaughter': 1, '#': 8, '@DaleGunn3': 1, 'box': 1, '&': 3, '|': 2, 'chief': 1, 'riots': 1, 'skills': 1, 'interesting': 2, 'financial': 1, 'right': 1, 'Brown': 3, 'So': 3, 'laziness': 1, 'need': 1, 'disorganized': 1, '@runsammrun': 2, 'Clearly': 1, 'cams': 1, 'ready': 1, 'gun': 1, 'open': 2, '@unpreachedtruth': 14, 'afford': 7, 'never': 2, '@rockermom53': 2, 'claim': 1, '?': 5, ',': 6, 'Fe': 2, 'machine': 3, 'r': 2, 'carelessness': 1, 'video': 2, 'focus': 1, 'matter': 1, 'find': 1, 'night': 1, 'got': 1, 'cost': 1, 'thought': 1, 'rights': 1, 'power': 1, '/': 4, 'preparing': 1, 'boxes': 2, 'people': 1, 'read': 2, 'ha': 1, 'Agree': 1, 'purchased': 1, 'small': 1, '#interesting': 2, 'suspect': 1, 'Police': 2, '@deBeauxOs1': 1, 'install': 1, 'last': 1, 'seem': 1, 'war-hardware': 1, 'us': 2, 'important': 1, 'disorganization': 1, 'I': 2, 'least': 1, 'city': 1, 'on': 2, 'train': 1, 'body': 1, \"can't\": 3, 'contact': 1, '.': 17, 'But': 1, '#MikeBrown': 3, '@vdogg9': 1, 'higher': 1, 'sure': 1, 'dash': 2, 'proves': 1, 'm': 1, 'said': 1, 'make': 1, 'serve': 1, 'insurance': 1, '#smh': 1, '$': 1, 'That': 1, '@norwind': 2, 'huh': 1, 'crazy': 1, 'plenty': 1, 'probably': 1, 'cameras': 3, 'h': 1, 'think': 1, 'serving': 2, 'mandatory': 1, 'cars': 3, 'stakes': 1, '1033': 1, 'smh': 1, '@Wanderer19': 3}\n",
      "Number of preprocessed rumour events = 500\n",
      "Number of preprocessed non-rumour events = 1000\n"
     ]
    }
   ],
   "source": [
    "def update_event_bow(events):\n",
    "    ###\n",
    "    # Your answer BEGINS HERE\n",
    "    ###\n",
    "    for event in events:\n",
    "        ht_word = []\n",
    "        # find all \"#...\" in this event\n",
    "        for key,val in event.items():\n",
    "            if key.startswith('#'):\n",
    "                ht_word.append(key)\n",
    "        # for each hashtag word\n",
    "        for w in ht_word:\n",
    "            if w not in tokenized_hashtags:\n",
    "                print(w + 'not in tokenized_hashtags')\n",
    "            else:\n",
    "                tokens = tokenized_hashtags[w]\n",
    "                # update BOW\n",
    "                for t in tokens:\n",
    "                    event[t] = event.get(t,0) + event[w]\n",
    "                \n",
    "    ###\n",
    "    # Your answer ENDS HERE\n",
    "    ###\n",
    "            \n",
    "update_event_bow(preprocessed_rumour_events)\n",
    "update_event_bow(preprocessed_nonrumour_events)\n",
    "\n",
    "print(\"Number of preprocessed rumour events =\", len(preprocessed_rumour_events))\n",
    "print(\"Number of preprocessed non-rumour events =\", len(preprocessed_nonrumour_events))"
   ]
  },
  {
   "cell_type": "markdown",
   "metadata": {},
   "source": [
    "# Text Classification (4 marks)"
   ]
  },
  {
   "cell_type": "markdown",
   "metadata": {},
   "source": [
    "### Question 5 (1.0 mark)\n",
    "\n",
    "**Instructions**: Here we are interested to do text classification, to predict, given a tweet and its reactions, whether it is a rumour or not. The task here is to create training, development and test partitions from the preprocessed events and convert the bag-of-words representation into feature vectors.\n",
    "\n",
    "**Task**: Using scikit-learn, create training, development and test partitions with a 60%/20%/20% ratio. Remember to preserve the ratio of rumour/non-rumour events for all your partitions. Next, turn the bag-of-words dictionary of each event into a feature vector, using scikit-learn `DictVectorizer`."
   ]
  },
  {
   "cell_type": "code",
   "execution_count": 111,
   "metadata": {},
   "outputs": [
    {
     "name": "stdout",
     "output_type": "stream",
     "text": [
      "Vocabulary size = 14097\n"
     ]
    }
   ],
   "source": [
    "from sklearn.feature_extraction import DictVectorizer\n",
    "\n",
    "vectorizer = DictVectorizer()\n",
    "\n",
    "###\n",
    "# Your answer BEGINS HERE\n",
    "###\n",
    "\n",
    "## get train_set, dev_set, test_set with ratio\n",
    "def get_tdt(raw_data,train=0.6,dev=0.2,test=0.2):\n",
    "    tra_len = int(train*len(raw_data))\n",
    "    dev_len = int(dev*len(raw_data))\n",
    "    train_set = raw_data[:tra_len]\n",
    "    dev_set = raw_data[tra_len:tra_len+dev_len]\n",
    "    test_set = raw_data[tra_len+dev_len:]\n",
    "    return train_set, dev_set, test_set\n",
    "\n",
    "rumor_tra_set, rumor_dev_set, rumor_tst_set = get_tdt(preprocessed_rumour_events, 0.6, 0.2, 0.2)\n",
    "nonrumor_tra_set, nonrumor_dev_set, nonrumor_tst_set = get_tdt(preprocessed_nonrumour_events, 0.6, 0.2, 0.2)\n",
    "\n",
    "\n",
    "## mix rumor set and nonrumor set as final train_set, dev_set, test_set\n",
    "def mix_rumor_nonrumor(rumor, nonrumor):\n",
    "    mixed_set, mixed_label = [], []\n",
    "    for i in rumor:\n",
    "        mixed_set.append(i)\n",
    "        mixed_label.append('rumor')\n",
    "    for j in nonrumor:\n",
    "        mixed_set.append(j)\n",
    "        mixed_label.append('nonrumor')\n",
    "    \n",
    "    return mixed_set, mixed_label\n",
    "\n",
    "tra_set, tra_label = mix_rumor_nonrumor(rumor_tra_set, nonrumor_tra_set)\n",
    "dev_set, dev_label = mix_rumor_nonrumor(rumor_dev_set, nonrumor_dev_set)\n",
    "tst_set, tst_label = mix_rumor_nonrumor(rumor_tst_set, nonrumor_tst_set)\n",
    "\n",
    "# Vectorize\n",
    "tra_data = vectorizer.fit_transform(tra_set)\n",
    "dev_data = vectorizer.fit_transform(dev_set)\n",
    "tst_data = vectorizer.transform(tst_set)\n",
    "###\n",
    "# Your answer ENDS HERE\n",
    "###\n",
    "\n",
    "print(\"Vocabulary size =\", len(vectorizer.vocabulary_))"
   ]
  },
  {
   "cell_type": "markdown",
   "metadata": {},
   "source": [
    "### Question 6 (2.0 mark)\n",
    "\n",
    "**Instructions**: Now, let's build some classifiers. Here, we'll be comparing Naive Bayes and Logistic Regression. For each, you need to first find a good value for their main regularisation (hyper)parameters, which you should identify using the scikit-learn docs or other resources. Use the development set you created for this tuning process; do **not** use cross-validation in the training set, or involve the test set in any way. You don't need to show all your work, but you do need to print out the accuracy with enough different settings to strongly suggest you have found an optimal or near-optimal choice. We should not need to look at your code to interpret the output.\n",
    "\n",
    "**Task**: Implement two text classifiers: Naive Bayes and Logistic Regression. Tune the hyper-parameters of these classifiers and print the task performance for different hyper-parameter settings."
   ]
  },
  {
   "cell_type": "code",
   "execution_count": 115,
   "metadata": {},
   "outputs": [
    {
     "name": "stdout",
     "output_type": "stream",
     "text": [
      "==============>>>\n",
      "These tune processes based on Development-set...\n",
      "\n",
      "MultinomialNB(alpha=1.0, class_prior=None, fit_prior=True)\n",
      "accuracy: 0.87\n",
      "              precision    recall  f1-score   support\n",
      "\n",
      "    nonrumor       0.94      0.85      0.90       200\n",
      "       rumor       0.76      0.90      0.82       100\n",
      "\n",
      "    accuracy                           0.87       300\n",
      "   macro avg       0.85      0.88      0.86       300\n",
      "weighted avg       0.88      0.87      0.87       300\n",
      "\n",
      "MultinomialNB(alpha=1.5, class_prior=None, fit_prior=True)\n",
      "accuracy: 0.88\n",
      "              precision    recall  f1-score   support\n",
      "\n",
      "    nonrumor       0.92      0.90      0.91       200\n",
      "       rumor       0.81      0.84      0.82       100\n",
      "\n",
      "    accuracy                           0.88       300\n",
      "   macro avg       0.86      0.87      0.87       300\n",
      "weighted avg       0.88      0.88      0.88       300\n",
      "\n",
      "MultinomialNB(alpha=2.0, class_prior=None, fit_prior=True)\n",
      "accuracy: 0.8866666666666667\n",
      "              precision    recall  f1-score   support\n",
      "\n",
      "    nonrumor       0.90      0.93      0.92       200\n",
      "       rumor       0.85      0.80      0.82       100\n",
      "\n",
      "    accuracy                           0.89       300\n",
      "   macro avg       0.88      0.86      0.87       300\n",
      "weighted avg       0.89      0.89      0.89       300\n",
      "\n",
      "MultinomialNB(alpha=2.3, class_prior=None, fit_prior=True)\n",
      "accuracy: 0.89\n",
      "              precision    recall  f1-score   support\n",
      "\n",
      "    nonrumor       0.90      0.94      0.92       200\n",
      "       rumor       0.88      0.78      0.83       100\n",
      "\n",
      "    accuracy                           0.89       300\n",
      "   macro avg       0.89      0.86      0.87       300\n",
      "weighted avg       0.89      0.89      0.89       300\n",
      "\n",
      "MultinomialNB(alpha=2.5, class_prior=None, fit_prior=True)\n",
      "accuracy: 0.8933333333333333\n",
      "              precision    recall  f1-score   support\n",
      "\n",
      "    nonrumor       0.89      0.96      0.92       200\n",
      "       rumor       0.90      0.76      0.83       100\n",
      "\n",
      "    accuracy                           0.89       300\n",
      "   macro avg       0.90      0.86      0.87       300\n",
      "weighted avg       0.89      0.89      0.89       300\n",
      "\n",
      "MultinomialNB(alpha=2.7, class_prior=None, fit_prior=True)\n",
      "accuracy: 0.89\n",
      "              precision    recall  f1-score   support\n",
      "\n",
      "    nonrumor       0.88      0.96      0.92       200\n",
      "       rumor       0.90      0.75      0.82       100\n",
      "\n",
      "    accuracy                           0.89       300\n",
      "   macro avg       0.89      0.85      0.87       300\n",
      "weighted avg       0.89      0.89      0.89       300\n",
      "\n",
      "MultinomialNB(alpha=3.0, class_prior=None, fit_prior=True)\n",
      "accuracy: 0.88\n",
      "              precision    recall  f1-score   support\n",
      "\n",
      "    nonrumor       0.87      0.97      0.92       200\n",
      "       rumor       0.92      0.70      0.80       100\n",
      "\n",
      "    accuracy                           0.88       300\n",
      "   macro avg       0.89      0.83      0.86       300\n",
      "weighted avg       0.88      0.88      0.88       300\n",
      "\n"
     ]
    },
    {
     "name": "stderr",
     "output_type": "stream",
     "text": [
      "c:\\python35\\lib\\site-packages\\sklearn\\linear_model\\logistic.py:432: FutureWarning: Default solver will be changed to 'lbfgs' in 0.22. Specify a solver to silence this warning.\n",
      "  FutureWarning)\n"
     ]
    },
    {
     "name": "stdout",
     "output_type": "stream",
     "text": [
      "LogisticRegression(C=1.0, class_weight=None, dual=False, fit_intercept=True,\n",
      "                   intercept_scaling=1, l1_ratio=None, max_iter=100,\n",
      "                   multi_class='warn', n_jobs=None, penalty='l2',\n",
      "                   random_state=None, solver='warn', tol=0.0001, verbose=0,\n",
      "                   warm_start=False)\n",
      "accuracy: 0.88\n",
      "              precision    recall  f1-score   support\n",
      "\n",
      "    nonrumor       0.87      0.97      0.92       200\n",
      "       rumor       0.92      0.70      0.80       100\n",
      "\n",
      "    accuracy                           0.88       300\n",
      "   macro avg       0.89      0.83      0.86       300\n",
      "weighted avg       0.88      0.88      0.88       300\n",
      "\n"
     ]
    },
    {
     "name": "stderr",
     "output_type": "stream",
     "text": [
      "c:\\python35\\lib\\site-packages\\sklearn\\linear_model\\logistic.py:432: FutureWarning: Default solver will be changed to 'lbfgs' in 0.22. Specify a solver to silence this warning.\n",
      "  FutureWarning)\n"
     ]
    },
    {
     "name": "stdout",
     "output_type": "stream",
     "text": [
      "LogisticRegression(C=2.0, class_weight=None, dual=False, fit_intercept=True,\n",
      "                   intercept_scaling=1, l1_ratio=None, max_iter=200,\n",
      "                   multi_class='warn', n_jobs=None, penalty='l2',\n",
      "                   random_state=None, solver='warn', tol=0.0001, verbose=0,\n",
      "                   warm_start=False)\n",
      "accuracy: 0.8733333333333333\n",
      "              precision    recall  f1-score   support\n",
      "\n",
      "    nonrumor       0.86      0.96      0.91       200\n",
      "       rumor       0.91      0.69      0.78       100\n",
      "\n",
      "    accuracy                           0.87       300\n",
      "   macro avg       0.88      0.83      0.85       300\n",
      "weighted avg       0.88      0.87      0.87       300\n",
      "\n"
     ]
    },
    {
     "name": "stderr",
     "output_type": "stream",
     "text": [
      "c:\\python35\\lib\\site-packages\\sklearn\\linear_model\\logistic.py:432: FutureWarning: Default solver will be changed to 'lbfgs' in 0.22. Specify a solver to silence this warning.\n",
      "  FutureWarning)\n"
     ]
    },
    {
     "name": "stdout",
     "output_type": "stream",
     "text": [
      "LogisticRegression(C=3.0, class_weight=None, dual=False, fit_intercept=True,\n",
      "                   intercept_scaling=1, l1_ratio=None, max_iter=300,\n",
      "                   multi_class='warn', n_jobs=None, penalty='l2',\n",
      "                   random_state=None, solver='warn', tol=0.0001, verbose=0,\n",
      "                   warm_start=False)\n",
      "accuracy: 0.87\n",
      "              precision    recall  f1-score   support\n",
      "\n",
      "    nonrumor       0.86      0.96      0.91       200\n",
      "       rumor       0.91      0.68      0.78       100\n",
      "\n",
      "    accuracy                           0.87       300\n",
      "   macro avg       0.88      0.82      0.84       300\n",
      "weighted avg       0.87      0.87      0.86       300\n",
      "\n"
     ]
    },
    {
     "name": "stderr",
     "output_type": "stream",
     "text": [
      "c:\\python35\\lib\\site-packages\\sklearn\\linear_model\\logistic.py:432: FutureWarning: Default solver will be changed to 'lbfgs' in 0.22. Specify a solver to silence this warning.\n",
      "  FutureWarning)\n"
     ]
    },
    {
     "name": "stdout",
     "output_type": "stream",
     "text": [
      "LogisticRegression(C=1.0, class_weight=None, dual=False, fit_intercept=True,\n",
      "                   intercept_scaling=1, l1_ratio=None, max_iter=400,\n",
      "                   multi_class='warn', n_jobs=None, penalty='l2',\n",
      "                   random_state=None, solver='warn', tol=0.0001, verbose=0,\n",
      "                   warm_start=False)\n",
      "accuracy: 0.88\n",
      "              precision    recall  f1-score   support\n",
      "\n",
      "    nonrumor       0.87      0.97      0.92       200\n",
      "       rumor       0.92      0.70      0.80       100\n",
      "\n",
      "    accuracy                           0.88       300\n",
      "   macro avg       0.89      0.83      0.86       300\n",
      "weighted avg       0.88      0.88      0.88       300\n",
      "\n"
     ]
    }
   ],
   "source": [
    "from sklearn.naive_bayes import MultinomialNB\n",
    "from sklearn.linear_model import LogisticRegression\n",
    "\n",
    "###\n",
    "# Your answer BEGINS HERE\n",
    "###\n",
    "\n",
    "from sklearn import model_selection\n",
    "#from sklearn.model_selection import train_test_split\n",
    "from sklearn.metrics import accuracy_score, classification_report\n",
    "\n",
    "models = [MultinomialNB(alpha=1.0, class_prior=None, fit_prior=True),\n",
    "        MultinomialNB(alpha=1.5, class_prior=None, fit_prior=True),\n",
    "        MultinomialNB(alpha=2.0, class_prior=None, fit_prior=True),\n",
    "        MultinomialNB(alpha=2.3, class_prior=None, fit_prior=True),\n",
    "        MultinomialNB(alpha=2.5, class_prior=None, fit_prior=True),\n",
    "        MultinomialNB(alpha=2.7, class_prior=None, fit_prior=True),\n",
    "        MultinomialNB(alpha=3.0, class_prior=None, fit_prior=True),\n",
    "        LogisticRegression(C=1.0, class_weight=None, dual=False, fit_intercept=True,\n",
    "                           intercept_scaling=1, l1_ratio=None, max_iter=100,\n",
    "                           multi_class='warn', n_jobs=None, penalty='l2',\n",
    "                           random_state=None, solver='warn', tol=0.0001, verbose=0,\n",
    "                           warm_start=False),\n",
    "        LogisticRegression(C=2.0, class_weight=None, dual=False, fit_intercept=True,\n",
    "                           intercept_scaling=1, l1_ratio=None, max_iter=200,\n",
    "                           multi_class='warn', n_jobs=None, penalty='l2',\n",
    "                           random_state=None, solver='warn', tol=0.0001, verbose=0,\n",
    "                           warm_start=False),\n",
    "        LogisticRegression(C=3.0, class_weight=None, dual=False, fit_intercept=True,\n",
    "                           intercept_scaling=1, l1_ratio=None, max_iter=300,\n",
    "                           multi_class='warn', n_jobs=None, penalty='l2',\n",
    "                           random_state=None, solver='warn', tol=0.0001, verbose=0,\n",
    "                           warm_start=False),\n",
    "        LogisticRegression(C=1.0, class_weight=None, dual=False, fit_intercept=True,\n",
    "                           intercept_scaling=1, l1_ratio=None, max_iter=400,\n",
    "                           multi_class='warn', n_jobs=None, penalty='l2',\n",
    "                           random_state=None, solver='warn', tol=0.0001, verbose=0,\n",
    "                           warm_start=False)]\n",
    "\n",
    "def do_multiple_10foldcrossvalidation(models,data,classifications):\n",
    "    for model in models:\n",
    "        predictions = model_selection.cross_val_predict(model, data, classifications, cv=10)\n",
    "        print(model)\n",
    "        print(\"accuracy:\", accuracy_score(classifications,predictions))\n",
    "        print(classification_report(classifications,predictions))\n",
    "        \n",
    "print(\"==============>>>\")\n",
    "print(\"These tune processes based on Development-set...\\n\")\n",
    "do_multiple_10foldcrossvalidation(models, dev_data, dev_label)\n",
    "###\n",
    "# Your answer ENDS HERE\n",
    "###"
   ]
  },
  {
   "cell_type": "markdown",
   "metadata": {},
   "source": [
    "### Question 7 (1.0 mark)\n",
    "\n",
    "**Instructions**: Using the best settings you have found, compare the two classifiers based on performance in the test set. Print out both accuracy and macro-averaged F-score for each classifier. Be sure to label your output.\n",
    "\n",
    "**Task**: Compute test performance in terms of accuracy and macro-averaged F-score for both Naive Bayes and Logistic Regression, using optimal hyper-parameter settings."
   ]
  },
  {
   "cell_type": "code",
   "execution_count": 116,
   "metadata": {},
   "outputs": [
    {
     "name": "stdout",
     "output_type": "stream",
     "text": [
      "==============>>>\n",
      "Below experiments based on Test-set...\n",
      "\n",
      "1> Test on MultinomialNB\n",
      "MultinomialNB(alpha=2.5, class_prior=None, fit_prior=True)\n",
      "accuracy: 0.7066666666666667\n",
      "              precision    recall  f1-score   support\n",
      "\n",
      "    nonrumor       0.71      0.96      0.81       200\n",
      "       rumor       0.71      0.20      0.31       100\n",
      "\n",
      "    accuracy                           0.71       300\n",
      "   macro avg       0.71      0.58      0.56       300\n",
      "weighted avg       0.71      0.71      0.65       300\n",
      "\n",
      "2> Test on LogisticRegression\n"
     ]
    },
    {
     "name": "stderr",
     "output_type": "stream",
     "text": [
      "c:\\python35\\lib\\site-packages\\sklearn\\linear_model\\logistic.py:432: FutureWarning: Default solver will be changed to 'lbfgs' in 0.22. Specify a solver to silence this warning.\n",
      "  FutureWarning)\n"
     ]
    },
    {
     "name": "stdout",
     "output_type": "stream",
     "text": [
      "LogisticRegression(C=1.0, class_weight=None, dual=False, fit_intercept=True,\n",
      "                   intercept_scaling=1, l1_ratio=None, max_iter=100,\n",
      "                   multi_class='warn', n_jobs=None, penalty='l2',\n",
      "                   random_state=None, solver='warn', tol=0.0001, verbose=0,\n",
      "                   warm_start=False)\n",
      "accuracy: 0.7366666666666667\n",
      "              precision    recall  f1-score   support\n",
      "\n",
      "    nonrumor       0.76      0.88      0.82       200\n",
      "       rumor       0.65      0.45      0.53       100\n",
      "\n",
      "    accuracy                           0.74       300\n",
      "   macro avg       0.71      0.67      0.67       300\n",
      "weighted avg       0.73      0.74      0.72       300\n",
      "\n"
     ]
    }
   ],
   "source": [
    "###\n",
    "# Your answer BEGINS HERE\n",
    "###\n",
    "best_NB = MultinomialNB(alpha=2.5, class_prior=None, fit_prior=True)\n",
    "best_LR = LogisticRegression(C=1.0, class_weight=None, dual=False, fit_intercept=True,\n",
    "                   intercept_scaling=1, l1_ratio=None, max_iter=100,\n",
    "                   multi_class='warn', n_jobs=None, penalty='l2',\n",
    "                   random_state=None, solver='warn', tol=0.0001, verbose=0,\n",
    "                   warm_start=False)\n",
    "\n",
    "def test_model(model, data, classifications):\n",
    "    predictions = model_selection.cross_val_predict(model, data, classifications, cv=10)\n",
    "    print(model)\n",
    "    print(\"accuracy:\", accuracy_score(classifications,predictions))\n",
    "    print(classification_report(classifications,predictions))\n",
    "\n",
    "    \n",
    "print(\"==============>>>\")\n",
    "print(\"Below experiments based on Test-set...\\n\")\n",
    "print(\"1> Test on MultinomialNB\")\n",
    "test_model(best_NB, tst_data, tst_label)\n",
    "print(\"2> Test on LogisticRegression\")\n",
    "test_model(best_LR, tst_data, tst_label)\n",
    "###\n",
    "# Your answer ENDS HERE\n",
    "###"
   ]
  },
  {
   "cell_type": "code",
   "execution_count": null,
   "metadata": {},
   "outputs": [],
   "source": []
  }
 ],
 "metadata": {
  "kernelspec": {
   "display_name": "Python 3",
   "language": "python",
   "name": "python3"
  },
  "language_info": {
   "codemirror_mode": {
    "name": "ipython",
    "version": 3
   },
   "file_extension": ".py",
   "mimetype": "text/x-python",
   "name": "python",
   "nbconvert_exporter": "python",
   "pygments_lexer": "ipython3",
   "version": "3.5.2"
  }
 },
 "nbformat": 4,
 "nbformat_minor": 2
}
