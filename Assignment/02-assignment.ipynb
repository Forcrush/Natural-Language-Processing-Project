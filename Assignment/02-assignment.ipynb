{
 "cells": [
  {
   "cell_type": "markdown",
   "metadata": {
    "colab_type": "text",
    "id": "W_oI1y6-cY4d"
   },
   "source": [
    "# Homework 2: Word Similarity"
   ]
  },
  {
   "cell_type": "markdown",
   "metadata": {
    "colab_type": "text",
    "collapsed": true,
    "id": "XIBjsAqjcY4e"
   },
   "source": [
    "Student Name: Hongyu Chen\n",
    "\n",
    "Student ID: 1062897"
   ]
  },
  {
   "cell_type": "markdown",
   "metadata": {
    "colab_type": "text",
    "id": "1Huv7ALVcY4f"
   },
   "source": [
    "## General info"
   ]
  },
  {
   "cell_type": "markdown",
   "metadata": {
    "colab_type": "text",
    "id": "p07JVvoScY4g"
   },
   "source": [
    "<b>Due date</b>: Thursday, 4 June 2020 5pm\n",
    "\n",
    "<b>Submission method</b>: Canvas submission\n",
    "\n",
    "<b>Submission materials</b>: completed copy of this iPython notebook\n",
    "\n",
    "<b>Late submissions</b>: -10% per day (both week and weekend days counted)\n",
    "\n",
    "<b>Marks</b>: 10% of mark for class (with 9% on correctness + 1% on quality and efficiency of your code)\n",
    "\n",
    "**Note**: As we will be implementing neural networks in this assignment, you're encouraged to build your notebook on **colab**. See the programming exercise in workshop-07 (`10-bert.ipynb`) if you are not familiar with colab.\n",
    "\n",
    "<b>Materials</b>: See [Using Jupyter Notebook and Python page](https://canvas.lms.unimelb.edu.au/courses/17601/pages/using-jupyter-notebook-and-python?module_item_id=1678430) on Canvas (under Modules>Resources) for information on the basic setup required for this class, including an iPython notebook viewer and the python packages NLTK, Numpy, Scipy, Matplotlib, Scikit-Learn, and Gensim. In particular, if you are not using a lab computer which already has it installed, we recommend installing all the data for NLTK, since you will need various parts of it to complete this assignment. Deep learning libraries such as keras and pytorch are also allowed.  You can also use any Python built-in packages, but do not use any other 3rd party packages (the packages listed above are all fine to use); if your iPython notebook doesn't run on the marker's machine, you will lose marks. <b> You should use Python 3</b>.  \n",
    "\n",
    "To familiarize yourself with NLTK, here is a free online book:  Steven Bird, Ewan Klein, and Edward Loper (2009). <a href=http://nltk.org/book>Natural Language Processing with Python</a>. O'Reilly Media Inc. You may also consult the <a href=https://www.nltk.org/api/nltk.html>NLTK API</a>.\n",
    "\n",
    "\n",
    "\n",
    "\n",
    "<b>Evaluation</b>: Your iPython notebook should run end-to-end without any errors in a reasonable amount of time, and you must follow all instructions provided below, including specific implementation requirements and instructions for what needs to be printed (please avoid printing output we don't ask for). You should edit the sections below where requested, but leave the rest of the code as is. You should leave the output from running your code in the iPython notebook you submit, to assist with marking. The amount each section is worth is given in parenthesis after the instructions. \n",
    "\n",
    "You will be marked not only on the correctness of your methods, but also the quality and efficency of your code: in particular, you should be careful to use Python built-in functions and operators when appropriate and pick descriptive variable names that adhere to <a href=\"https://www.python.org/dev/peps/pep-0008/\">Python style requirements</a>. If you think it might be unclear what you are doing, you should comment your code to help the marker make sense of it.\n",
    "\n",
    "<b>Updates</b>: Any major changes to the assignment will be announced via Canvas. Minor changes and clarifications will be announced on the discussion board; we recommend you check it regularly.\n",
    "\n",
    "<b>Academic misconduct</b>: For most people, collaboration will form a natural part of the undertaking of this homework, and we encourge you to discuss it in general terms with other students. However, this ultimately is still an individual task, and so reuse of code or other instances of clear influence will be considered cheating. We will be checking submissions for originality and will invoke the University’s <a href=\"http://academichonesty.unimelb.edu.au/policy.html\">Academic Misconduct policy</a> where inappropriate levels of collusion or plagiarism are deemed to have taken place."
   ]
  },
  {
   "cell_type": "markdown",
   "metadata": {
    "colab_type": "text",
    "id": "wseHhYGScY4g"
   },
   "source": [
    "## Overview"
   ]
  },
  {
   "cell_type": "markdown",
   "metadata": {
    "colab_type": "text",
    "id": "wH9UvbJTcY4h"
   },
   "source": [
    "In this homework, you'll be quantifying the similarity between pairs of words of a dataset using different methods with the word co-occurrence in the Brown corpus and synset structure of WordNet. Firstly, you will preprocess the dataset to filter out the rare and ambiguous words. Secondly, you will calculate the similarity scores for pairs of words in the filtered dataset using Lin similarity, NPMI and LSA. Lastly, you will quantify how well these methods work by comparing to a human annotated gold-standard."
   ]
  },
  {
   "cell_type": "markdown",
   "metadata": {
    "colab_type": "text",
    "id": "2ptNKS9CcY4h"
   },
   "source": [
    "## 1. Preprocessing (2 marks)"
   ]
  },
  {
   "cell_type": "markdown",
   "metadata": {
    "colab_type": "text",
    "collapsed": true,
    "id": "V2OlvNAicY4i"
   },
   "source": [
    "### Question 1 (1.0 mark)\n",
    "\n",
    "<b>Instructions</b>: For this homework we will be comparing our methods against a popular dataset of word similarities called <a href=\"http://alfonseca.org/eng/research/wordsim353.html\">Similarity-353</a>. You need to first obtain this dataset, which is on Canvas (assignment 2). The file we will be using is called *set1.tab*. Make sure you save this in the same folder as the notebook.  Except for the header (which should be stripped out), the file is tab formated with the first two columns corresponding to two words, and the third column representing a human-annotated similarity between the two words. <b>You should ignore the subsequent columns</b>.\n",
    "\n",
    "Here shows the first six lines of the file:\n",
    "\n",
    "```\n",
    "Word 1\tWord 2\tHuman (mean)\t1\t2\t3\t4\t5\t6\t7\t8\t9\t10\t11\t12\t13\t\n",
    "love\tsex\t6.77\t9\t6\t8\t8\t7\t8\t8\t4\t7\t2\t6\t7\t8\t\n",
    "tiger\tcat\t7.35\t9\t7\t8\t7\t8\t9\t8.5\t5\t6\t9\t7\t5\t7\t\n",
    "tiger\ttiger\t10.00\t10\t10\t10\t10\t10\t10\t10\t10\t10\t10\t10\t10\t10\t\n",
    "book\tpaper\t7.46\t8\t8\t7\t7\t8\t9\t7\t6\t7\t8\t9\t4\t9\t\n",
    "computer\tkeyboard\t7.62\t8\t7\t9\t9\t8\t8\t7\t7\t6\t8\t10\t3\t9\t\n",
    "```\n",
    "    \n",
    "You should load this file into a Python dictionary (NOTE: in Python, tuples of strings, i.e. (\"tiger\",\"cat\") can serve as the keys of a dictionary to map to their human-annotated similarity). This dataset contains many rare words: we need to filter this dataset in order for it to be better suited to the resources we will use in this assignment. So your first goal is to filter this dataset to generate a smaller test set where you will evaluate your word similarity methods.\n",
    "\n",
    "The first filtering is based on **document frequencies** (not token frequencies) in the Brown corpus, in order to remove rare words. In this homework, **we will be treating the paragraphs of the Brown corpus as our \"documents\"**. You can iterate over them by using the `paras` method of the corpus reader. You should remove tokens that are not alphabetic. Tokens should be lower-cased and lemmatized (lemmatize function provided). Store this preprocessed data in *brown_corpus* object (it will be used for question 4 and 5 later).\n",
    "\n",
    "Now calculate document frequencies for each word type, and use this to remove from your word similarity data any word pairs where at least one of the two words has a document frequency of **$< 8$** in this corpus. You should store all the word pair and similarity mappings in your filtered test set in a dictionary called *filtered_gold_standard*.\n",
    "\n",
    "Note: the document frequency of a word denotes the number of documents that contains the word.\n",
    "\n",
    "**Task**: Filter word pairs from *set1.tab* based on document frequencies. Produce *brown_corpus*, which is a list where each element is a set of words for one paragraph (e.g. the first element in *brown_corpus* should contain all the unique word types for the first paragraph). Produce *filtered_gold_standard*, a dictionary of filtered word pairs with human similarity ratings (the dictionary should have (word1, word2) as keys, and similarity ratings as values).\n",
    "\n",
    "**Check**: Use the assertion statements in *\"For your testing\"* below for the expected *filtered_gold_standard*."
   ]
  },
  {
   "cell_type": "code",
   "execution_count": 1,
   "metadata": {
    "colab": {
     "base_uri": "https://localhost:8080/",
     "height": 139
    },
    "colab_type": "code",
    "executionInfo": {
     "elapsed": 10593,
     "status": "ok",
     "timestamp": 1588139440049,
     "user": {
      "displayName": "Jey Han Lau",
      "photoUrl": "",
      "userId": "09065329932778503205"
     },
     "user_tz": -600
    },
    "id": "szPlY9PIcY4j",
    "outputId": "218560c5-6e80-4a8b-bfaf-5cb46b90f34c",
    "scrolled": true
   },
   "outputs": [
    {
     "name": "stderr",
     "output_type": "stream",
     "text": [
      "[nltk_data] Downloading package brown to\n",
      "[nltk_data]     C:\\Users\\HP\\AppData\\Roaming\\nltk_data...\n",
      "[nltk_data]   Package brown is already up-to-date!\n",
      "[nltk_data] Downloading package wordnet to\n",
      "[nltk_data]     C:\\Users\\HP\\AppData\\Roaming\\nltk_data...\n",
      "[nltk_data]   Package wordnet is already up-to-date!\n"
     ]
    },
    {
     "name": "stdout",
     "output_type": "stream",
     "text": [
      "94\n",
      "{('alcohol', 'chemistry'): 5.54, ('football', 'basketball'): 6.81, ('student', 'professor'): 6.81, ('psychology', 'discipline'): 5.58, ('psychology', 'doctor'): 6.42, ('psychology', 'anxiety'): 7.0, ('tool', 'implement'): 6.46, ('planet', 'sun'): 8.02, ('cup', 'food'): 5.0, ('cup', 'substance'): 1.92, ('tiger', 'cat'): 7.35, ('professor', 'doctor'): 6.62, ('drink', 'ear'): 1.31, ('law', 'lawyer'): 8.38, ('planet', 'galaxy'): 8.11, ('holy', 'sex'): 1.62, ('cup', 'liquid'): 5.9, ('money', 'dollar'): 8.42, ('baby', 'mother'): 7.85, ('drink', 'eat'): 6.87, ('drink', 'mouth'): 5.96, ('psychology', 'depression'): 7.42, ('money', 'property'): 7.57, ('cup', 'drink'): 7.25, ('bird', 'cock'): 7.1, ('journey', 'car'): 5.85, ('movie', 'critic'): 6.73, ('brother', 'monk'): 6.27, ('coast', 'forest'): 3.15, ('money', 'currency'): 9.04, ('cup', 'coffee'): 6.58, ('stock', 'life'): 0.92, ('bishop', 'rabbi'): 6.69, ('journey', 'voyage'): 9.29, ('tiger', 'animal'): 7.0, ('psychology', 'health'): 7.23, ('cup', 'object'): 3.69, ('psychology', 'mind'): 7.69, ('tiger', 'tiger'): 10.0, ('precedent', 'information'): 3.85, ('space', 'chemistry'): 4.88, ('company', 'stock'): 7.08, ('money', 'cash'): 9.08, ('noon', 'string'): 0.54, ('precedent', 'group'): 1.77, ('stock', 'egg'): 1.81, ('money', 'deposit'): 7.73, ('coast', 'hill'): 4.38, ('precedent', 'example'): 5.85, ('tiger', 'organism'): 4.77, ('money', 'bank'): 8.5, ('tiger', 'zoo'): 5.87, ('precedent', 'law'): 6.65, ('drink', 'car'): 3.04, ('bank', 'money'): 8.12, ('drink', 'mother'): 2.65, ('stock', 'live'): 3.73, ('money', 'operation'): 3.31, ('book', 'library'): 7.46, ('coast', 'shore'): 9.1, ('money', 'wealth'): 8.27, ('car', 'automobile'): 8.94, ('movie', 'theater'): 7.92, ('movie', 'star'): 7.38, ('television', 'radio'): 6.77, ('planet', 'moon'): 8.08, ('cup', 'entity'): 2.15, ('chord', 'smile'): 0.54, ('stock', 'phone'): 1.62, ('food', 'fruit'): 7.52, ('smart', 'student'): 4.62, ('king', 'queen'): 8.58, ('wood', 'forest'): 7.73, ('smart', 'stupid'): 5.81, ('bread', 'butter'): 6.19, ('doctor', 'nurse'): 7.0, ('forest', 'graveyard'): 1.85, ('tennis', 'racket'): 7.56, ('cup', 'article'): 2.4, ('monk', 'slave'): 0.92, ('planet', 'star'): 8.45, ('train', 'car'): 6.31, ('telephone', 'communication'): 7.5, ('love', 'sex'): 6.77, ('money', 'possession'): 7.29, ('psychology', 'fear'): 6.85, ('precedent', 'collection'): 2.5, ('psychology', 'science'): 6.71, ('book', 'paper'): 7.46, ('planet', 'space'): 7.92, ('stock', 'market'): 8.08, ('drug', 'abuse'): 6.85, ('football', 'tennis'): 6.63, ('plane', 'car'): 5.77}\n"
     ]
    }
   ],
   "source": [
    "import nltk\n",
    "from nltk.corpus import brown\n",
    "from nltk.corpus import wordnet\n",
    "\n",
    "nltk.download(\"brown\")\n",
    "nltk.download(\"wordnet\")\n",
    "\n",
    "# filtered_gold_standard stores the word pairs and their human-annotated similarity in your filtered test set\n",
    "filtered_gold_standard = {}\n",
    "\n",
    "# lemmatizer\n",
    "lemmatizer = nltk.stem.wordnet.WordNetLemmatizer()\n",
    "\n",
    "def lemmatize(word):\n",
    "    lemma = lemmatizer.lemmatize(word,'v')\n",
    "    if lemma == word:\n",
    "        lemma = lemmatizer.lemmatize(word,'n')\n",
    "    return lemma\n",
    "\n",
    "\n",
    "###\n",
    "# Your answer BEGINS HERE\n",
    "###\n",
    "import re\n",
    "\n",
    "\n",
    "# check if a word(in lower case) is alphabetic\n",
    "def pure_word(word):\n",
    "    if re.match('^[a-z]+$', word):\n",
    "        return word\n",
    "    return False\n",
    "\n",
    "\n",
    "# transform a list of words into lowercase and alphabetic and lemmatized status\n",
    "def filter_list(array):\n",
    "    tmp = []\n",
    "    for w in array:\n",
    "        lc = w.lower()\n",
    "        if pure_word(lc):\n",
    "            tmp.append(lemmatize(lc))\n",
    "    return tmp\n",
    "\n",
    "\n",
    "# filter brown corpus\n",
    "def filter_corpus():\n",
    "    \n",
    "    '''\n",
    "    brown.paras()\n",
    "    Returns\n",
    "        the given file(s) as a list of paragraphs, \n",
    "        each encoded as a list of sentences, which \n",
    "        are in turn encoded as lists of word strings.\n",
    "    Return type\n",
    "        list(list(list(str)))\n",
    "    -- \"www.nltk.org/api/nltk.corpus.reader.html\"\n",
    "    '''\n",
    "    res = []\n",
    "    \n",
    "    for para in brown.paras():\n",
    "        res.append(filter_list(sum(para, [])))\n",
    "    return res\n",
    "\n",
    "\n",
    "# get word pair in 'set1.tab'\n",
    "def get_set1():\n",
    "    res = []\n",
    "    with open(\"set1.tab\", 'r') as f:\n",
    "        for row in f.readlines():\n",
    "            res.append(row.split()[:3])\n",
    "    # delete the head line\n",
    "    res.pop(0)\n",
    "    \n",
    "    dic = {}\n",
    "    for pairs in res:\n",
    "        dic[(pairs[0], pairs[1])] = pairs[2]\n",
    "    return dic\n",
    "\n",
    "\n",
    "# check if a word pair is rare\n",
    "def not_rare(word_pair, corpus):\n",
    "    cnt1, cnt2 = 0, 0\n",
    "    for para in corpus:\n",
    "        if word_pair[0] in para:\n",
    "            cnt1 += 1\n",
    "        if word_pair[1] in para:\n",
    "            cnt2 += 1\n",
    "        if cnt1 >= 8 and cnt2 >= 8:\n",
    "            return True\n",
    "    return False\n",
    "\n",
    "\n",
    "brown_corpus = filter_corpus()\n",
    "set1 = get_set1()\n",
    "filtered_gold_standard = {}\n",
    "\n",
    "# delete rare word pairs\n",
    "for key,val in set1.items():\n",
    "    if not_rare(key, brown_corpus):\n",
    "        filtered_gold_standard[key] = float(val)\n",
    "        \n",
    "\n",
    "###\n",
    "# Your answer ENDS HERE\n",
    "###\n",
    "\n",
    "print(len(filtered_gold_standard))\n",
    "print(filtered_gold_standard)\n"
   ]
  },
  {
   "cell_type": "markdown",
   "metadata": {
    "colab_type": "text",
    "id": "JTt3T9fycY4p"
   },
   "source": [
    "<b>For your testing: </b>"
   ]
  },
  {
   "cell_type": "code",
   "execution_count": 2,
   "metadata": {
    "colab": {},
    "colab_type": "code",
    "id": "PCkSP91lcY4q"
   },
   "outputs": [],
   "source": [
    "assert(len(brown_corpus)==15667)\n",
    "assert(len(filtered_gold_standard) > 50 and len(filtered_gold_standard) < 100)\n",
    "assert(filtered_gold_standard[('love', 'sex')] == 6.77)"
   ]
  },
  {
   "cell_type": "markdown",
   "metadata": {
    "colab_type": "text",
    "id": "zknFIccAcY40"
   },
   "source": [
    "### Question 2 (1.0 mark)\n",
    "\n",
    "<b>Instructions</b>: Here, you apply the second filtering. The second filtering is based on words with highly ambiguous senses and involves using the NLTK interface to WordNet. Here, you should remove any words which do not have a **single primary sense**. We define single primary sense here as either: (a) having only one sense (i.e. only one synset), or (b) where the count (as provided by the WordNet `count()` method for the lemmas associated with a synset) of the most common sense is at least 4 times larger than the next most common sense. Note that a synset can be associated with multiple lemmas. You should only consider the count of your lemma.\n",
    "\n",
    "Note: You should lowercase the lemmas of a synset when matching your word; and if there are multiple lowercased lemmas that match your word, you should sum up the count of all matching lemmas.\n",
    "\n",
    "Additionally, you should remove any words where the primary sense is **not a noun** (this information is also in the synset). Store the synset corresponding to this primary sense in a dictionary for use in the next section.\n",
    "\n",
    "Given this definition, remove the word pairs from the test set where at least one of the words does not meet the above criteria. When you have applied the two filtering steps, you should store all the word pair and similarity mappings in your filtered test set in a dictionary called *final_gold_standard*.\n",
    "\n",
    "**Task**: Filter word pairs for any words which do not have a single primary sense and aren't nouns. Produce *final_gold_standard*, a dictionary of filtered word pairs with human similarity ratings. Note: this second filtering is applied on top of the first filtering (question 1). In other words, you shouldn't consider any word pairs that have already been discarded by the first filtering in this question.\n",
    "\n",
    "**Check**: Use the assertion statements in *\"For your testing\"* for the expected *final_gold_standard*."
   ]
  },
  {
   "cell_type": "code",
   "execution_count": 3,
   "metadata": {
    "colab": {
     "base_uri": "https://localhost:8080/",
     "height": 71
    },
    "colab_type": "code",
    "executionInfo": {
     "elapsed": 919,
     "status": "ok",
     "timestamp": 1588139482398,
     "user": {
      "displayName": "Jey Han Lau",
      "photoUrl": "",
      "userId": "09065329932778503205"
     },
     "user_tz": -600
    },
    "id": "W6rdnrOXcY41",
    "outputId": "8d2391db-d5c0-4ea2-ea83-850e79bffd5c",
    "scrolled": false
   },
   "outputs": [
    {
     "name": "stdout",
     "output_type": "stream",
     "text": [
      "26\n",
      "{('psychology', 'doctor'): 6.42, ('alcohol', 'chemistry'): 5.54, ('football', 'basketball'): 6.81, ('student', 'professor'): 6.81, ('stock', 'egg'): 1.81, ('king', 'queen'): 8.58, ('coast', 'hill'): 4.38, ('psychology', 'mind'): 7.69, ('bread', 'butter'): 6.19, ('coast', 'forest'): 3.15, ('forest', 'graveyard'): 1.85, ('bishop', 'rabbi'): 6.69, ('journey', 'voyage'): 9.29, ('monk', 'slave'): 0.92, ('planet', 'moon'): 8.08, ('psychology', 'health'): 7.23, ('psychology', 'science'): 6.71, ('football', 'tennis'): 6.63, ('coast', 'shore'): 9.1, ('planet', 'galaxy'): 8.11, ('car', 'automobile'): 8.94, ('journey', 'car'): 5.85, ('brother', 'monk'): 6.27, ('baby', 'mother'): 7.85, ('professor', 'doctor'): 6.62, ('money', 'cash'): 9.08}\n",
      "{'student': Synset('student.n.01'), 'stock': Synset('stock.n.01'), 'journey': Synset('journey.n.01'), 'professor': Synset('professor.n.01'), 'coast': Synset('seashore.n.01'), 'football': Synset('football.n.01'), 'king': Synset('king.n.01'), 'automobile': Synset('car.n.01'), 'slave': Synset('slave.n.01'), 'car': Synset('car.n.01'), 'mind': Synset('mind.n.01'), 'brother': Synset('brother.n.01'), 'baby': Synset('baby.n.01'), 'rabbi': Synset('rabbi.n.01'), 'mother': Synset('mother.n.01'), 'voyage': Synset('ocean_trip.n.01'), 'graveyard': Synset('cemetery.n.01'), 'galaxy': Synset('galaxy.n.01'), 'planet': Synset('planet.n.01'), 'doctor': Synset('doctor.n.01'), 'psychology': Synset('psychology.n.01'), 'monk': Synset('monk.n.01'), 'basketball': Synset('basketball.n.01'), 'cash': Synset('cash.n.01'), 'bishop': Synset('bishop.n.01'), 'shore': Synset('shore.n.01'), 'egg': Synset('egg.n.01'), 'money': Synset('money.n.01'), 'bread': Synset('bread.n.01'), 'butter': Synset('butter.n.01'), 'health': Synset('health.n.01'), 'tennis': Synset('tennis.n.01'), 'science': Synset('science.n.01'), 'queen': Synset('queen.n.01'), 'moon': Synset('moon.n.01'), 'hill': Synset('hill.n.01'), 'chemistry': Synset('chemistry.n.01'), 'forest': Synset('forest.n.01'), 'alcohol': Synset('alcohol.n.01')}\n"
     ]
    }
   ],
   "source": [
    "# final_gold_standard stores the word pairs and their human-annotated similarity in your final filtered test set\n",
    "final_gold_standard = {}\n",
    "word_primarysense = {} #a dictionary of (word, primary_sense) (used for next section); primary_sense is a synset\n",
    "\n",
    "###\n",
    "# Your answer BEGINS HERE\n",
    "###\n",
    "\n",
    "\n",
    "def has_single_primary_sense(word):\n",
    "    syn_dic = {}\n",
    "    for syn in wordnet.synsets(word):\n",
    "        # print(syn.name(), syn.lemmas())\n",
    "        for lem in syn.lemmas():\n",
    "            if lem.name().lower() == word:\n",
    "                syn_dic[syn.name()] = syn_dic.get(syn.name(), 0) + lem.count()\n",
    "    res = sorted(syn_dic.items(), key=lambda item:-item[1])\n",
    "    if len(res) == 1:\n",
    "        if res[0][0].split('.')[1] == 'n':\n",
    "            return wordnet.synsets(word)[0]\n",
    "    else:\n",
    "        if res[0][0].split('.')[1] == 'n' and res[0][1] >= res[1][1] * 4:\n",
    "            for syn in wordnet.synsets(word):\n",
    "                if syn.name() == res[0][0]:\n",
    "                    return syn\n",
    "    return False\n",
    "\n",
    "\n",
    "for key,val in filtered_gold_standard.items():\n",
    "    if has_single_primary_sense(key[0]) and has_single_primary_sense(key[1]):\n",
    "        final_gold_standard[key] = val\n",
    "        word_primarysense[key[0]] = has_single_primary_sense(key[0])\n",
    "        word_primarysense[key[1]] = has_single_primary_sense(key[1])\n",
    "        \n",
    "###\n",
    "# Your answer ENDS HERE\n",
    "###\n",
    "\n",
    "print(len(final_gold_standard))\n",
    "print(final_gold_standard)\n",
    "print(word_primarysense)"
   ]
  },
  {
   "cell_type": "markdown",
   "metadata": {
    "colab_type": "text",
    "id": "cWgLNH3LcY45"
   },
   "source": [
    "<b>For your testing:</b>"
   ]
  },
  {
   "cell_type": "code",
   "execution_count": 4,
   "metadata": {
    "colab": {},
    "colab_type": "code",
    "id": "th1NNkYZcY45"
   },
   "outputs": [],
   "source": [
    "assert(len(final_gold_standard) > 10 and len(final_gold_standard) < 40)\n",
    "assert(final_gold_standard[('professor', 'doctor')] == 6.62)"
   ]
  },
  {
   "cell_type": "markdown",
   "metadata": {
    "colab_type": "text",
    "id": "CnVPXtiLcY5E"
   },
   "source": [
    "## 2. Computing word similiarity with Lin similarity, NPMI and LSA (3 marks)"
   ]
  },
  {
   "cell_type": "markdown",
   "metadata": {
    "colab_type": "text",
    "id": "rSK4x4IBcY5F"
   },
   "source": [
    "### Question 3 (1.0 mark)\n",
    "\n",
    "<b>Instructions</b>: Now you will create several dictionaries with similarity scores for pairs of words in your test set derived using the techniques discussed in class. The first of these is the Lin similarity for your word pairs using the information content of the Brown corpus, which you should calculate using the primary sense for each word derived above. You can use the built-in method included in the NLTK interface, you don't have to implement your own. \n",
    "\n",
    "When you're done, you should store the word pair and similarity mappings in a dictionary called *lin_similarities*.\n",
    "\n",
    "**Task**: Compute word pair similarity using Lin similarity for the test set. Produce *lin_similarities*, a dictionary of word pairs (keys) and computed Lin similarity scores (values).\n",
    "\n",
    "**Check**: Use the assertion statements in *\"For your testing\"* below for the expected *lin_similarities*. "
   ]
  },
  {
   "cell_type": "code",
   "execution_count": 5,
   "metadata": {
    "colab": {},
    "colab_type": "code",
    "id": "spSqNWwbcY5G",
    "outputId": "ae435270-a164-462d-82e9-eb65e8a79c7b",
    "scrolled": true
   },
   "outputs": [
    {
     "name": "stderr",
     "output_type": "stream",
     "text": [
      "[nltk_data] Downloading package wordnet_ic to\n",
      "[nltk_data]     C:\\Users\\HP\\AppData\\Roaming\\nltk_data...\n",
      "[nltk_data]   Package wordnet_ic is already up-to-date!\n"
     ]
    },
    {
     "name": "stdout",
     "output_type": "stream",
     "text": [
      "{('psychology', 'doctor'): -0.0, ('alcohol', 'chemistry'): 0.062235427146896456, ('football', 'basketball'): 0.7536025025710653, ('student', 'professor'): 0.26208607023317687, ('stock', 'egg'): -0.0, ('king', 'queen'): 0.25872135992145145, ('coast', 'hill'): 0.5991131628821826, ('psychology', 'mind'): 0.304017384194818, ('bread', 'butter'): 0.711420490146294, ('coast', 'forest'): -0.0, ('forest', 'graveyard'): -0.0, ('bishop', 'rabbi'): 0.6655650900427844, ('journey', 'voyage'): 0.6969176573027711, ('monk', 'slave'): 0.2543108201944307, ('planet', 'moon'): 0.7808882364067532, ('psychology', 'health'): 0.06004979886905243, ('psychology', 'science'): 0.8474590505736942, ('money', 'cash'): 0.7888839126424345, ('coast', 'shore'): 0.9632173804623256, ('planet', 'galaxy'): -0.0, ('car', 'automobile'): 1.0, ('journey', 'car'): -0.0, ('brother', 'monk'): 0.24862817480738675, ('baby', 'mother'): 0.6315913189894092, ('professor', 'doctor'): 0.7036526610448273, ('football', 'tennis'): 0.7699955045932811}\n"
     ]
    }
   ],
   "source": [
    "from nltk.corpus import wordnet_ic\n",
    "nltk.download('wordnet_ic')\n",
    "\n",
    "# lin_similarities stores the word pair and Lin similarity mappings\n",
    "lin_similarities = {}\n",
    "\n",
    "###\n",
    "# Your answer BEGINS HERE\n",
    "###\n",
    "\n",
    "brown_ic = wordnet_ic.ic('ic-brown.dat')\n",
    "\n",
    "for key,_ in final_gold_standard.items():\n",
    "    lin_similarities[key] = word_primarysense[key[0]].lin_similarity(word_primarysense[key[1]], brown_ic)\n",
    "\n",
    "###\n",
    "# Your answer ENDS HERE\n",
    "###\n",
    "\n",
    "print(lin_similarities)"
   ]
  },
  {
   "cell_type": "markdown",
   "metadata": {
    "colab_type": "text",
    "id": "GDbnoh-qcY5I"
   },
   "source": [
    "<b>For your testing:</b>"
   ]
  },
  {
   "cell_type": "code",
   "execution_count": 6,
   "metadata": {
    "colab": {},
    "colab_type": "code",
    "id": "yH_6wsW6cY5J"
   },
   "outputs": [],
   "source": [
    "assert(lin_similarities[('professor', 'doctor')] > 0.5 and lin_similarities[('professor', 'doctor')] < 1)"
   ]
  },
  {
   "cell_type": "markdown",
   "metadata": {
    "colab_type": "text",
    "id": "m7FXoMudcY5P"
   },
   "source": [
    "### Question 4 (1.0 mark)\n",
    "\n",
    "**Instructions:** Next, you will calculate Normalized PMI (NPMI) for your word pairs using word frequency derived from the Brown.\n",
    "\n",
    "PMI is defined as:\n",
    "\n",
    "\\begin{equation*}\n",
    "PMI = \\log_2\\left(\\frac{p(x,y)}{p(x)p(y)}\\right)\n",
    "\\end{equation*}\n",
    "\n",
    "where\n",
    "\n",
    "\\begin{equation*}\n",
    "p(x,y) = \\frac{\\text{Number of paragraphs with the co-occurrence of x and y}}{\\sum_i \\text{Number of word types in paragraph}_i}\n",
    "\\end{equation*}\n",
    "\n",
    "\\begin{equation*}\n",
    "p(x) = \\frac{\\text{Number of paragraphs with the occurrence of x}}{\\sum_i \\text{Number of word types in paragraph}_i}\n",
    "\\end{equation*}\n",
    "\n",
    "\\begin{equation*}\n",
    "p(y) = \\frac{\\text{Number of paragraphs with the occurrence of y}}{\\sum_i \\text{Number of word types in paragraph}_i}\n",
    "\\end{equation*}\n",
    "\n",
    "with the sum over $i$ ranging over all paragraphs. Note that there are other ways PMI could be formulated.\n",
    "\n",
    "NPMI is defined as:\n",
    "\n",
    "\\begin{equation*}\n",
    "NPMI = \\frac{PMI}{-log_2(p(x,y))} = \\frac{log_2(p(x)p(y))}{log_2(p(x,y))} - 1\n",
    "\\end{equation*}\n",
    "\n",
    "Thus, when there is no co-occurrence, NPMI is -1. NPMI is normalized between [-1, +1]. \n",
    "\n",
    "You should use the *brown_corpus* object you've created in question 1 as your corpus here. You need to use the basic method for calculating PMI introduced in class (and also in the reading) which is appropriate for any possible definition of co-occurrence (here, there is co-occurrence when a word pair appears in the same paragraph), but you should only calculate PMI for the words in your test set. You must avoid building the entire co-occurrence matrix, instead you should keeping track of the sums you need for the probabilities as you go along. \n",
    "\n",
    "When you have calculated NPMI for all the pairs, you should store the word pair and NPMI-similarity mappings in a dictionary called *NPMI_similarities*.\n",
    "\n",
    "**Task**: Compute word pair similarity using NPMI similarity for the test set. Produce *NPMI_similarities*, a dictionary of word pairs (keys) and computed NPMI similarity scores (values).\n",
    "\n",
    "**Check**: Use the assertion statements in *\"For your testing\"* below for the expected *NPMI_similarities*."
   ]
  },
  {
   "cell_type": "code",
   "execution_count": 7,
   "metadata": {
    "colab": {},
    "colab_type": "code",
    "id": "1yoPO9BecY5Q",
    "outputId": "8d7588a5-c769-468e-9c3d-7ca5026e6f4b",
    "scrolled": false
   },
   "outputs": [
    {
     "name": "stdout",
     "output_type": "stream",
     "text": [
      "{('psychology', 'doctor'): 0.4613281583726412, ('alcohol', 'chemistry'): 0.6246376972254175, ('football', 'basketball'): 0.7161994042283006, ('student', 'professor'): 0.535495995400926, ('stock', 'egg'): 0.3685128922213745, ('king', 'queen'): 0.4181407297139583, ('coast', 'hill'): 0.33931028834846244, ('psychology', 'mind'): 0.4461666043435182, ('bread', 'butter'): 0.6531272737497535, ('coast', 'forest'): 0.45787396913892886, ('forest', 'graveyard'): -1, ('bishop', 'rabbi'): -1, ('journey', 'voyage'): -1, ('monk', 'slave'): -1, ('planet', 'moon'): 0.658000616232332, ('psychology', 'health'): -1, ('psychology', 'science'): 0.5908740096534864, ('money', 'cash'): 0.44493834723517245, ('coast', 'shore'): 0.5861510629843374, ('planet', 'galaxy'): -1, ('car', 'automobile'): 0.5430334549802616, ('journey', 'car'): -1, ('brother', 'monk'): 0.42993185256931743, ('baby', 'mother'): 0.5149353890388502, ('professor', 'doctor'): -1, ('football', 'tennis'): -1}\n"
     ]
    }
   ],
   "source": [
    "# NPMI_similarities stores the word pair and NPMI similarity mappings\n",
    "NPMI_similarities = {}\n",
    "\n",
    "###\n",
    "# Your answer BEGINS HERE\n",
    "###\n",
    "import math\n",
    "\n",
    "\n",
    "def NPML(word_pair):\n",
    "    w1, w2 = word_pair[0], word_pair[1]\n",
    "    cnt1, cnt2, cnt_co, word_type = 0, 0, 0, 0\n",
    "    # one loop is enough (optimazation)\n",
    "    for para in brown_corpus:\n",
    "        word_type += len(set(para))\n",
    "        if w1 in para:\n",
    "            cnt1 += 1\n",
    "        if w2 in para:\n",
    "            cnt2 += 1\n",
    "        if w1 in para and w2 in para:\n",
    "            cnt_co += 1\n",
    "    p_w1 = cnt1 / word_type\n",
    "    p_w2 = cnt2 / word_type\n",
    "    p_co = cnt_co / word_type\n",
    "    \n",
    "    if p_co == 0:\n",
    "        return -1\n",
    "    \n",
    "    return math.log2(p_w1 * p_w2) / math.log2(p_co) - 1\n",
    "\n",
    "\n",
    "for key,_ in final_gold_standard.items():\n",
    "    NPMI_similarities[key] = NPML(key)\n",
    "    \n",
    "###\n",
    "# Your answer ENDS HERE\n",
    "###\n",
    "\n",
    "print(NPMI_similarities)"
   ]
  },
  {
   "cell_type": "markdown",
   "metadata": {
    "colab_type": "text",
    "id": "1uJbBXzfcY5S"
   },
   "source": [
    "<b>For your testing:</b>"
   ]
  },
  {
   "cell_type": "code",
   "execution_count": 8,
   "metadata": {
    "colab": {},
    "colab_type": "code",
    "id": "-nhg3YOBcY5S"
   },
   "outputs": [],
   "source": [
    "assert(NPMI_similarities[('professor', 'doctor')] == -1)"
   ]
  },
  {
   "cell_type": "markdown",
   "metadata": {
    "colab_type": "text",
    "id": "1hfkyiBkcY5a"
   },
   "source": [
    "### Question 5 (1.0 mark)\n",
    "\n",
    "**Instructions:** Here we'll use singular value decomposition (SVD) to derive similarity scores using the Latent Semantic Analysis (LSA) method. Recall that LSA applies SVD and truncation to get a dense vector representation of a word type. To measure similarity between two words we calculate cosine similarity between the LSA vectors of the words.\n",
    "\n",
    "We'll first build a term-document frequency matrix (as before, a document is a paragraph in Brown corpus). That is, the rows corresponds to words in the vocabulary, and the columns represent the paragraphs/documents in Brown corpus. Each cell records the document frequency of a word (1 if the word appears in the document, 0 otherwise). You should use the *brown_corpus* object created in question 1 as your corpus to build the term-document frequency matrix.\n",
    "\n",
    "Given the term-document frequency matrix, we'll use `truncatedSVD` in `sklearn` to produce dense vectors of length k = 500, and then use cosine similarity to produce similarities for the word pairs in the test set.\n",
    "\n",
    "You can use the workshop's notebook on distributional similarity (``09-distributional-similarity.ipynb``) as a starting point, but note that we use term-document frequency matrix (as opposed to the tf-idf matrix in the workshop).\n",
    "\n",
    "When you are done, you should store the word pair and LSA-similarity mappings in a dictionary called *LSA_similarities*.\n",
    "\n",
    "**Task**: Compute word pair similarity using LSA. Produce *LSA_similarities*, a dictionary of word pairs (keys) and computed LSA similarity scores (values).\n",
    "\n",
    "**Check**: Use the assertion statements in *\"For your testing\"* below for the expected *LSA_similarities*. \n",
    "\n"
   ]
  },
  {
   "cell_type": "code",
   "execution_count": 35,
   "metadata": {
    "colab": {
     "base_uri": "https://localhost:8080/",
     "height": 54
    },
    "colab_type": "code",
    "executionInfo": {
     "elapsed": 17315,
     "status": "ok",
     "timestamp": 1588148041794,
     "user": {
      "displayName": "Jey Han Lau",
      "photoUrl": "",
      "userId": "09065329932778503205"
     },
     "user_tz": -600
    },
    "id": "5qg8WfjVcY5b",
    "outputId": "417407a8-5d17-44c7-e81a-906e9335b42f",
    "scrolled": false
   },
   "outputs": [
    {
     "name": "stdout",
     "output_type": "stream",
     "text": [
      "Length of term_index_dic:  29104\n",
      "term_document_matrix shape:  (29104, 15667)\n",
      "LSA_vectors shape:  (29104, 500)\n",
      "{('psychology', 'doctor'): 0.1094221232687085, ('alcohol', 'chemistry'): 0.10399337275664655, ('football', 'basketball'): 0.24790932327172685, ('student', 'professor'): 0.283735050315131, ('stock', 'egg'): 0.1119896755305052, ('king', 'queen'): 0.13858366869799704, ('coast', 'hill'): 0.2417501247608062, ('psychology', 'mind'): 0.11716790170122621, ('bread', 'butter'): 0.3184431896212829, ('coast', 'forest'): 0.15610240059299932, ('forest', 'graveyard'): 0.06918654171723954, ('bishop', 'rabbi'): 0.0421498947665497, ('journey', 'voyage'): 0.06939319772180737, ('monk', 'slave'): -0.010613374627635128, ('planet', 'moon'): 0.401430706931263, ('psychology', 'health'): 0.0579462942894689, ('psychology', 'science'): 0.2358345587784586, ('money', 'cash'): 0.10567469356441775, ('coast', 'shore'): 0.40905255491719056, ('planet', 'galaxy'): 0.02793245028328546, ('car', 'automobile'): 0.3703800465467, ('journey', 'car'): 0.016190311294319994, ('brother', 'monk'): 0.06046786160114864, ('baby', 'mother'): 0.3323618706320266, ('professor', 'doctor'): 0.09109043680111827, ('football', 'tennis'): 0.11209289542690552}\n"
     ]
    }
   ],
   "source": [
    "# LSA_similarities stores the word pair and LSA similarity mappings\n",
    "LSA_similarities = {}\n",
    "\n",
    "###\n",
    "# Your answer BEGINS HERE\n",
    "###\n",
    "from sklearn.decomposition import TruncatedSVD\n",
    "from sklearn.feature_extraction.text import CountVectorizer\n",
    "\n",
    "\n",
    "# get term-document matrix with shape: (term_number, document_number)\\\n",
    "# and term-index dictionary, each term (word) has a unique index such as {w1:0, w2:1, w3:2, ...}\n",
    "def get_TDmx_TIdic(corpus):\n",
    "    \n",
    "    text = []\n",
    "    for para in corpus:\n",
    "        # delete duplicate term in one document, to keep the count number always be 1 if target word appears\n",
    "        para = list(set(para))\n",
    "        text.append(' '.join(para))\n",
    "    \n",
    "    vectorizer = CountVectorizer()\n",
    "    # X shape: (document_number, term_number)\n",
    "    X = vectorizer.fit_transform(text)\n",
    "    \n",
    "    terms = vectorizer.get_feature_names()\n",
    "    term_index_dic = {}\n",
    "    for i in range(len(terms)):\n",
    "        term_index_dic[terms[i]] = i\n",
    "        \n",
    "    return X.T, term_index_dic\n",
    "\n",
    "\n",
    "# calculate LSA vectors, using SVD\n",
    "def get_LSA_vectors(term_document_matrix):\n",
    "    return TruncatedSVD(500).fit_transform(term_document_matrix)\n",
    "\n",
    "\n",
    "# basic cosine similarity\n",
    "def cos_sim(v1, v2):\n",
    "    return np.dot(v1, v2) / (np.linalg.norm(v1) * np.linalg.norm(v2))\n",
    "\n",
    "\n",
    "term_document_mx, term_index_dic = get_TDmx_TIdic(brown_corpus)\n",
    "LSA_vectors = get_LSA_vectors(term_document_mx)\n",
    "\n",
    "print('Length of term_index_dic: ', len(term_index_dic))\n",
    "print('term_document_matrix shape: ', term_document_mx.shape)\n",
    "print('LSA_vectors shape: ', LSA_vectors.shape)\n",
    "\n",
    "for key,_ in final_gold_standard.items():\n",
    "    index1, index2 = term_index_dic[key[0]], term_index_dic[key[1]]\n",
    "    LSA_similarities[key] = cos_sim(LSA_vectors[index1], LSA_vectors[index2])\n",
    "\n",
    "###\n",
    "# Your answer ENDS HERE\n",
    "###\n",
    "\n",
    "print(LSA_similarities)"
   ]
  },
  {
   "cell_type": "markdown",
   "metadata": {
    "colab_type": "text",
    "id": "dLtjcNgIcY5d"
   },
   "source": [
    "<b>For your testing:</b>"
   ]
  },
  {
   "cell_type": "code",
   "execution_count": 36,
   "metadata": {
    "colab": {},
    "colab_type": "code",
    "id": "oZ0sUZbNcY5e"
   },
   "outputs": [],
   "source": [
    "assert(LSA_similarities[('professor', 'doctor')] > 0 and LSA_similarities[('professor', 'doctor')] < 0.4)"
   ]
  },
  {
   "cell_type": "markdown",
   "metadata": {},
   "source": [
    "## Computing word similarity with feedforward language model (3 marks)"
   ]
  },
  {
   "cell_type": "markdown",
   "metadata": {},
   "source": [
    "### Question 6 (1.0 mark)\n",
    "\n",
    "**Instructions**: Here we'll build a n-gram neural language model to learn word embeddings, and compute word similarity based on the word embeddings. As before we will use the Brown corpus as training data for our language model, and the first step is to collect the vocabulary.\n",
    "\n",
    "As before, we'll treat paragraphs in the Brown corpus as our documents. The first 12K paragraphs/documents will serve as our training data, and the rest (3K+ documents) as development data. The first step towards building a language model is to collect the vocabulary, i.e. the set of unique word types in our training data. When collecting the word types, you should lowercase all words, and only keep word types that have a frequency $>= 5$. Store your vocabulary in the _vocab_ object.\n",
    "\n",
    "Note: \n",
    "  - we'll be using _$<$UNK$>$_ to represent unseen words, and so _vocab_ is initialised with the special _$<$UNK$>$_.\n",
    "  - you do not need to do any other additional preprocessing aside from the aforementioned steps (e.g. no need to remove symbols, etc)\n",
    "  - you should not use *brown_corpus* here, as you need the words in their original order (*brown_corpus* stores a set of words for each paragraph, and so do not contain word order information)\n",
    "\n",
    "**Task**: Collect a set of unique word types in the training portion (first 12K paragraphs) of the Brown corpus. Produce _vocab_, which is a set that contains all the word types.\n",
    "\n",
    "**Check**: Use the assertion statements in *\"For your testing\"* below to check the vocabulary size."
   ]
  },
  {
   "cell_type": "code",
   "execution_count": 51,
   "metadata": {
    "colab": {
     "base_uri": "https://localhost:8080/",
     "height": 241
    },
    "colab_type": "code",
    "executionInfo": {
     "elapsed": 14058,
     "status": "ok",
     "timestamp": 1588144253884,
     "user": {
      "displayName": "Jey Han Lau",
      "photoUrl": "",
      "userId": "09065329932778503205"
     },
     "user_tz": -600
    },
    "id": "u2HdOXvYcY5k",
    "outputId": "1b84d6be-d0cd-4bf5-f580-619f122b59b6"
   },
   "outputs": [
    {
     "name": "stdout",
     "output_type": "stream",
     "text": [
      "12681\n"
     ]
    }
   ],
   "source": [
    "num_train = 12000\n",
    "UNK_symbol = \"<UNK>\"\n",
    "vocab = set([UNK_symbol])\n",
    "\n",
    "###\n",
    "# Your answer BEGINS HERE\n",
    "###\n",
    "\n",
    "# get word frequency dictionary\n",
    "def get_word_fre():\n",
    "    dic = {}\n",
    "    for para in brown.paras()[:num_train]:\n",
    "        for sen in para:\n",
    "            for w in sen:\n",
    "                lc = w.lower()\n",
    "                dic[lc] = dic.get(lc, 0) + 1\n",
    "    return dic\n",
    "\n",
    "\n",
    "for key,val in get_word_fre().items():\n",
    "    if val >= 5:\n",
    "        vocab.add(key)\n",
    "        \n",
    "###\n",
    "# Your answer ENDS HERE\n",
    "###\n",
    "\n",
    "print(len(vocab))"
   ]
  },
  {
   "cell_type": "markdown",
   "metadata": {},
   "source": [
    "**For your testing:**"
   ]
  },
  {
   "cell_type": "code",
   "execution_count": 52,
   "metadata": {},
   "outputs": [],
   "source": [
    "assert(len(vocab) > 8000 and len(vocab) < 20000)"
   ]
  },
  {
   "cell_type": "markdown",
   "metadata": {},
   "source": [
    "### Question 7 (1.0 mark)\n",
    "\n",
    "**Instructions**: As we'll be building a trigram neural language model (based on lecture 7, page 20), the next step is to collect trigrams to construct our training data. In a trigram neural language model, for example if we have the trigram _cow eats grass_, the input to the model is the first two terms of a trigram (_cow_ and _eats_), and the language model's aim is to predict the last term of the trigram (_grass_). Your task here is to construct the training and development data for the language model. Just like the previous step, the first 12K paragraphs will serve as our training data, and the remaining 3K+ will be for development. You'll need to map words into IDs when constructing the training and development data. Any words that are not in _vocab_ should be mapped to the special _$<$UNK$>$_ symbol.\n",
    "\n",
    "As an example, given the sentence \"_a big fat hungry cow ._\", you should create the following training examples:\n",
    "\n",
    "|input|target|\n",
    "|:---:|:----:|\n",
    "|<i>a</i>, _big_|_fat_|\n",
    "|_big_, _fat_|_hungry_|\n",
    "|_fat_, _hungry_|_cow_|\n",
    "|_hungry_, _cow_|_._|\n",
    "\n",
    "\n",
    "Note:\n",
    "   - _vocab_ is a set and so does not map words into IDs. You'll need to create a word to ID mapping first based on _vocab_.\n",
    "   - A trigram should not cross sentence boundary.\n",
    "   - You should ignore sentences that have less than 3 words (as they are too short to form trigrams).\n",
    "   - We won't need special starting symbol when collecting the trigrams, as we are only interested in learning word embeddings here (and not computing probabilities of a sentence).\n",
    "\n",
    "\n",
    "**Task**: Create training and development data. The training input and target data should be stored in the <i>x_train</i> and <i>y_train</i> respectively, and development input and target data in <i>x_dev</i> and <i>y_dev</i> respectively.\n",
    "\n",
    "**Check**: Use the assertion statements in *\"For your testing\"* below for the expected shape of the outputs."
   ]
  },
  {
   "cell_type": "code",
   "execution_count": 55,
   "metadata": {},
   "outputs": [
    {
     "name": "stdout",
     "output_type": "stream",
     "text": [
      "(872823, 2)\n",
      "(872823, 1)\n",
      "(174016, 2)\n",
      "(174016, 1)\n"
     ]
    }
   ],
   "source": [
    "###\n",
    "# Your answer BEGINS HERE\n",
    "###\n",
    "\n",
    "\n",
    "# each word will have an ID, stored in vocab_id\n",
    "list_vocab = list(vocab)\n",
    "vocab_id = {}\n",
    "for i in range(len(list_vocab)):\n",
    "    vocab_id[list_vocab[i]] = i\n",
    "    \n",
    "    \n",
    "# split data and label of a dataset (list of paragraphs in brown.paras())\n",
    "def split_dataset(dataset):\n",
    "    x, y = [], []\n",
    "    for para in dataset:\n",
    "        for sen in para:\n",
    "            # too short sentence\n",
    "            if len(sen) < 3:\n",
    "                continue\n",
    "            for start in range(0, len(sen)-2):\n",
    "                id1 = vocab_id.get(sen[start].lower(), vocab_id[\"<UNK>\"])\n",
    "                id2 = vocab_id.get(sen[start+1].lower(), vocab_id[\"<UNK>\"])\n",
    "                id3 = vocab_id.get(sen[start+2].lower(), vocab_id[\"<UNK>\"])\n",
    "                x.append([id1, id2])\n",
    "                y.append([id3])\n",
    "    return np.array(x), np.array(y)\n",
    "    \n",
    "\n",
    "train, dev = brown.paras()[:num_train], brown.paras()[num_train:]\n",
    "x_train, y_train = split_dataset(train)\n",
    "x_dev, y_dev = split_dataset(dev)\n",
    "\n",
    "###\n",
    "# Your answer ENDS HERE\n",
    "###\n",
    "\n",
    "    \n",
    "print(x_train.shape)\n",
    "print(y_train.shape)\n",
    "print(x_dev.shape)\n",
    "print(y_dev.shape)"
   ]
  },
  {
   "cell_type": "markdown",
   "metadata": {},
   "source": [
    "**For your testing:**"
   ]
  },
  {
   "cell_type": "code",
   "execution_count": 56,
   "metadata": {},
   "outputs": [],
   "source": [
    "assert(x_train.shape[0] == y_train.shape[0])\n",
    "assert(x_dev.shape[0] == y_dev.shape[0])\n",
    "assert(x_train.shape[0] > 500000)\n",
    "assert(x_dev.shape[0] > 50000)"
   ]
  },
  {
   "cell_type": "markdown",
   "metadata": {},
   "source": [
    "### Question 8 (1.0 mark)\n",
    "\n",
    "**Instructions**: Now let's build the trigram neural language model. We'll use the language model described in lecture 7 (page 20):\n",
    "\n",
    "$x' = e(x_1) \\oplus e(x_2)$\n",
    "\n",
    "$h = \\tanh(W_1 x' + b)$\n",
    "\n",
    "$y = $ softmax$(W_2 h)$\n",
    "\n",
    "where $\\oplus$ is the concatenation operation, $x_1$ and $x_2$ are the input words, $e$ is an embedding function, and $y$ is the target word. You can use either `keras` or `pytorch` for building your model.\n",
    "\n",
    "Set the dimension of the word embeddings and $h$ to 100, and train your model with 3 epochs with a batch size of 256. You will not need to tune hyper-parameters for this task.\n",
    "\n",
    "After the model is trained, use the word embeddings to compute word similarity in the test set. Store the similarity scores in a dictionary called *lm_similarities*.\n",
    "\n",
    "Note:\n",
    "  - For words in the test set that are not in your vocabulary, you should treat them as unknown words. In other words, you should use $<$UNK$>$'s embedding to represent these words.\n",
    "  - The training may take some time on CPU. You can run your notebook on colab with a GPU if you want faster training (see the programming exercise in workshop-07 if you're not familiar with colab)\n",
    "\n",
    "**Task**: Train a trigram neural language model, and use the learned word embeddings to compute word similarity. Produce *lm_similarities*, a dictionary that contains word pairs as keys and similarity scores as values."
   ]
  },
  {
   "cell_type": "code",
   "execution_count": 59,
   "metadata": {
    "colab": {
     "base_uri": "https://localhost:8080/",
     "height": 479
    },
    "colab_type": "code",
    "executionInfo": {
     "elapsed": 77894,
     "status": "ok",
     "timestamp": 1588147602713,
     "user": {
      "displayName": "Jey Han Lau",
      "photoUrl": "",
      "userId": "09065329932778503205"
     },
     "user_tz": -600
    },
    "id": "qlVRe-opcY5n",
    "outputId": "df59619c-9d39-4e47-fb70-5373dd1d06db"
   },
   "outputs": [
    {
     "name": "stdout",
     "output_type": "stream",
     "text": [
      "Model: \"sequential_15\"\n",
      "_________________________________________________________________\n",
      "Layer (type)                 Output Shape              Param #   \n",
      "=================================================================\n",
      "embedding_15 (Embedding)     (None, 2, 100)            1268100   \n",
      "_________________________________________________________________\n",
      "flatten_10 (Flatten)         (None, 200)               0         \n",
      "_________________________________________________________________\n",
      "dense_30 (Dense)             (None, 100)               20100     \n",
      "_________________________________________________________________\n",
      "dense_31 (Dense)             (None, 12681)             1280781   \n",
      "=================================================================\n",
      "Total params: 2,568,981\n",
      "Trainable params: 2,568,981\n",
      "Non-trainable params: 0\n",
      "_________________________________________________________________\n",
      "{('psychology', 'doctor'): -0.14107113, ('alcohol', 'chemistry'): -0.032942697, ('football', 'basketball'): -0.08986879, ('student', 'professor'): -0.16301666, ('stock', 'egg'): -0.11510152, ('king', 'queen'): 0.15768078, ('coast', 'hill'): -0.16673501, ('psychology', 'mind'): 0.030422298, ('bread', 'butter'): -0.094258144, ('coast', 'forest'): 0.041553576, ('forest', 'graveyard'): 0.05253471, ('bishop', 'rabbi'): 0.08027235, ('journey', 'voyage'): 0.057283062, ('monk', 'slave'): 0.03243202, ('planet', 'moon'): 0.093969755, ('psychology', 'health'): 0.16200647, ('psychology', 'science'): 0.20478982, ('money', 'cash'): 0.03579344, ('coast', 'shore'): -0.0072682137, ('planet', 'galaxy'): 0.11999224, ('car', 'automobile'): 0.0012679123, ('journey', 'car'): -0.03161737, ('brother', 'monk'): -0.16112123, ('baby', 'mother'): 0.07945068, ('professor', 'doctor'): -0.10349594, ('football', 'tennis'): -0.033127945}\n"
     ]
    }
   ],
   "source": [
    "lm_similarities = {}\n",
    "\n",
    "###\n",
    "# Your answer BEGINS HERE\n",
    "###\n",
    "# tensorflow 2\n",
    "import tensorflow as tf\n",
    "import tensorflow.keras as keras\n",
    "import random\n",
    "\n",
    "\n",
    "# get one-hot encoding\n",
    "def one_hot(y, vocab_size):\n",
    "    res = []\n",
    "    for i in range(len(y)):\n",
    "        tmp = [0] * vocab_size\n",
    "        tmp[y[i][0]] = 1\n",
    "        res.append(tmp)\n",
    "        \n",
    "    return np.array(res)\n",
    "\n",
    "\n",
    "# train our model and get trained embeddings\n",
    "def train_and_get_embedding():\n",
    "    vocab_size = len(vocab)\n",
    "    \n",
    "    # construct the model\n",
    "    model = keras.Sequential()\n",
    "    \n",
    "    # tri-gram -> input_length = 2\n",
    "    # dimension of the word embeddings set as 100\n",
    "    # Embedding shape (vocab_size, 100)\n",
    "    model.add(tf.keras.layers.Embedding(vocab_size, 100, input_length=2))\n",
    "    \n",
    "    # concatanate embedding output of two words\n",
    "    model.add(keras.layers.Flatten())\n",
    "    \n",
    "    # h =100\n",
    "    model.add(tf.keras.layers.Dense(100, activation='tanh'))\n",
    "    \n",
    "    model.add(tf.keras.layers.Dense(vocab_size, activation='softmax'))\n",
    "    \n",
    "    model.summary()\n",
    "    \n",
    "    # compile network\n",
    "    model.compile(loss='categorical_crossentropy', optimizer='adam', metrics=['accuracy'])\n",
    "    \n",
    "    # train network\n",
    "    for epoch in range(3):\n",
    "        # batch size: 256, randomly choose\n",
    "        rd_idx = np.array(random.sample(range(x_train.shape[0]), 256))\n",
    "        train_x_batch, train_y_batch = x_train[rd_idx], y_train[rd_idx]\n",
    "        train_y_batch = one_hot(train_y_batch, vocab_size)\n",
    "        # print(train_x_batch.shape, train_y_batch.shape)\n",
    "        model.fit(train_x_batch, train_y_batch, verbose=0)\n",
    "    \n",
    "    # first layer\n",
    "    embeddings = model.layers[0].get_weights()[0]\n",
    "    \n",
    "    return embeddings\n",
    "\n",
    "\n",
    "# embeddings shape (vocab_size, 100)\n",
    "embeddings = train_and_get_embedding()\n",
    "\n",
    "for key,_ in final_gold_standard.items():\n",
    "    # if a word not in vocab (maybe it appears less than 5 times in brown corpus)\n",
    "    # use UNK_symbol as substitution\n",
    "    id1, id2 = vocab_id.get(key[0], vocab_id[UNK_symbol]), vocab_id.get(key[1], vocab_id[UNK_symbol])\n",
    "    assert(len(embeddings[id1]) == 100)\n",
    "    lm_similarities[key] = cos_sim(embeddings[id1], embeddings[id2])\n",
    "    \n",
    "###\n",
    "# Your answer ENDS HERE\n",
    "###\n",
    "\n",
    "\n",
    "print(lm_similarities)"
   ]
  },
  {
   "cell_type": "markdown",
   "metadata": {
    "colab_type": "text",
    "id": "qTgtO9-pcY5q"
   },
   "source": [
    "## 3. Comparison with the Gold Standard (1 mark)"
   ]
  },
  {
   "cell_type": "markdown",
   "metadata": {
    "colab_type": "text",
    "id": "5UpgjOKmcY5r"
   },
   "source": [
    "### Question 9 (1.0 mark)\n",
    "\n",
    "**Instructions:** Finally, you should compare all the similarities you've created to the gold standard you loaded and filtered in the first step. For this, you can use the Pearson correlation co-efficient (`pearsonr`), which is included in scipy (`scipy.stats`). Be careful converting your dictionaries to lists for this purpose, the data for the two datasets needs to be in the same order for correct comparison using correlation. Write a general function, then apply it to each of the similarity score dictionaries.\n",
    "\n",
    "When you are done, you should put the result in a dictionary called *pearson_correlations* (use the keys: 'lin', 'NPMI', 'LSA', 'lm').\n",
    "\n",
    "**Task**: Compute the Pearson correlation coefficient between the estimated similarity scores (Lin, NPMI and LSA similarities) and the gold standard similarity ratings. Produce *pearson_correlations*, a dictionary containing the methods as keys and correlations as values.\n",
    "\n",
    "**Check**: Use the assertion statements in *\"For your testing\"* below for the expected *pearson_correlations*. \n",
    "\n",
    "<b>Hint:</b> All of the methods used here should be markedly above 0, but also far from 1 (perfect correlation); if you're not getting reasonable results, go back and check your code for bugs! "
   ]
  },
  {
   "cell_type": "code",
   "execution_count": 60,
   "metadata": {
    "colab": {
     "base_uri": "https://localhost:8080/",
     "height": 34
    },
    "colab_type": "code",
    "executionInfo": {
     "elapsed": 843,
     "status": "ok",
     "timestamp": 1588147762343,
     "user": {
      "displayName": "Jey Han Lau",
      "photoUrl": "",
      "userId": "09065329932778503205"
     },
     "user_tz": -600
    },
    "id": "oAgJwXhxcY5r",
    "outputId": "0c5cc8f1-2aca-4fbc-cb1b-2c7a9529945d"
   },
   "outputs": [
    {
     "name": "stdout",
     "output_type": "stream",
     "text": [
      "{'NPMI': 0.18799888869410053, 'lin': 0.5301489978447534, 'LSA': 0.362403020935353, 'lm': 0.2591531391242941}\n"
     ]
    }
   ],
   "source": [
    "from scipy.stats import pearsonr\n",
    "\n",
    "# pearson_correlations stores the pearson correlations with the gold standard of 'lin', 'NPMI', 'LSA', 'lm'\n",
    "pearson_correlations = {}\n",
    "\n",
    "###\n",
    "# Your answer BEGINS HERE\n",
    "###\n",
    "\n",
    "def get_pearsonr(gold_sim, target_sim):\n",
    "    gold = []\n",
    "    target = []\n",
    "    for key,val in gold_sim.items():\n",
    "        gold.append(val)\n",
    "        target.append(target_sim[key])\n",
    "    \n",
    "    '''\n",
    "    pearsonr(x, y)\n",
    "    Parameters\n",
    "        x Input array.\n",
    "        y Input array.\n",
    "\n",
    "    Returns\n",
    "        r (float) Pearson’s correlation coefficient.\n",
    "        p-value (float) Two-tailed p-value.\n",
    "    '''\n",
    "    return pearsonr(gold, target)[0]\n",
    "\n",
    "\n",
    "target_sim = ['lin', 'NPMI', 'LSA', 'lm']\n",
    "for tar in target_sim:\n",
    "    if tar == 'lin':\n",
    "        pearson_correlations[tar] = get_pearsonr(final_gold_standard, lin_similarities)\n",
    "    if tar == 'NPMI':\n",
    "        pearson_correlations[tar] = get_pearsonr(final_gold_standard, NPMI_similarities)\n",
    "    if tar == 'LSA':\n",
    "        pearson_correlations[tar] = get_pearsonr(final_gold_standard, LSA_similarities)\n",
    "    if tar == 'lm':\n",
    "        pearson_correlations[tar] = get_pearsonr(final_gold_standard, lm_similarities)\n",
    "\n",
    "###\n",
    "# Your answer ENDS HERE\n",
    "###\n",
    "\n",
    "print(pearson_correlations)"
   ]
  },
  {
   "cell_type": "markdown",
   "metadata": {
    "colab_type": "text",
    "id": "aV6PxadqcY5v"
   },
   "source": [
    "<b>For your testing:</b>"
   ]
  },
  {
   "cell_type": "code",
   "execution_count": 61,
   "metadata": {
    "colab": {},
    "colab_type": "code",
    "id": "q2fNHrT0cY5v"
   },
   "outputs": [],
   "source": [
    "assert(pearson_correlations['lin'] > 0.4 and pearson_correlations['lin'] < 0.8)"
   ]
  },
  {
   "cell_type": "markdown",
   "metadata": {
    "colab_type": "text",
    "id": "oIoExaG0cY51"
   },
   "source": [
    "## A final word\n",
    "\n",
    "Normally, we would not use a corpus as small as the Brown for the purposes of building word vectors. Also, note that filtering our test set to just words we are likely to do well on would typically be considered cheating."
   ]
  },
  {
   "cell_type": "code",
   "execution_count": null,
   "metadata": {
    "colab": {},
    "colab_type": "code",
    "id": "aCwCHklbcY52"
   },
   "outputs": [],
   "source": []
  }
 ],
 "metadata": {
  "accelerator": "GPU",
  "anaconda-cloud": {},
  "colab": {
   "collapsed_sections": [],
   "name": "word-similarity.ipynb",
   "provenance": [],
   "toc_visible": true
  },
  "kernelspec": {
   "display_name": "Python 3",
   "language": "python",
   "name": "python3"
  },
  "language_info": {
   "codemirror_mode": {
    "name": "ipython",
    "version": 3
   },
   "file_extension": ".py",
   "mimetype": "text/x-python",
   "name": "python",
   "nbconvert_exporter": "python",
   "pygments_lexer": "ipython3",
   "version": "3.5.2"
  }
 },
 "nbformat": 4,
 "nbformat_minor": 1
}
